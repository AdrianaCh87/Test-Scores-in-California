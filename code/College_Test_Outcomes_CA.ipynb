{
 "cells": [
  {
   "cell_type": "markdown",
   "metadata": {},
   "source": [
    "<img src=\"http://imgur.com/1ZcRyrc.png\" style=\"float: left; margin: 20px; height: 55px\">\n",
    "\n",
    "# Project 1: Standardized Test Analysis"
   ]
  },
  {
   "cell_type": "markdown",
   "metadata": {},
   "source": [
    "--- \n",
    "# Part 1\n",
    "\n",
    "Part 1 requires knowledge of basic Python.\n",
    "\n",
    "---"
   ]
  },
  {
   "cell_type": "markdown",
   "metadata": {},
   "source": [
    "## Problem Statement"
   ]
  },
  {
   "cell_type": "markdown",
   "metadata": {},
   "source": [
    "Decide on your problem statement that will guide your analysis for this project. For guidelines, sample prompts, or inspiration, check out the README.\n",
    "\n",
    "**To-Do:** *Replace this cell with your problem statement.*"
   ]
  },
  {
   "cell_type": "markdown",
   "metadata": {},
   "source": [
    "### Contents:\n",
    "- [Background](#Background)\n",
    "- [Data Import & Cleaning](#Data-Import-and-Cleaning)\n",
    "- [Exploratory Data Analysis](#Exploratory-Data-Analysis)\n",
    "- [Data Visualization](#Visualize-the-Data)\n",
    "- [Conclusions and Recommendations](#Conclusions-and-Recommendations)"
   ]
  },
  {
   "cell_type": "markdown",
   "metadata": {},
   "source": [
    "## Background"
   ]
  },
  {
   "cell_type": "markdown",
   "metadata": {},
   "source": [
    "The SAT and ACT are standardized tests that many colleges and universities in the United States require for their admissions process. This score is used along with other materials such as grade point average (GPA) and essay responses to determine whether or not a potential student will be accepted to the university.\n",
    "\n",
    "The SAT has two sections of the test: Evidence-Based Reading and Writing and Math ([*source*](https://www.princetonreview.com/college/sat-sections)). The ACT has 4 sections: English, Mathematics, Reading, and Science, with an additional optional writing section ([*source*](https://www.act.org/content/act/en/products-and-services/the-act/scores/understanding-your-scores.html)). They have different score ranges, which you can read more about on their websites or additional outside sources (a quick Google search will help you understand the scores for each test):\n",
    "* [SAT](https://collegereadiness.collegeboard.org/sat)\n",
    "* [ACT](https://www.act.org/content/act/en.html)\n",
    "\n",
    "Standardized tests have long been a controversial topic for students, administrators, and legislators. Since the 1940's, an increasing number of colleges have been using scores from sudents' performances on tests like the SAT and the ACT as a measure for college readiness and aptitude ([*source*](https://www.minotdailynews.com/news/local-news/2017/04/a-brief-history-of-the-sat-and-act/)). Supporters of these tests argue that these scores can be used as an objective measure to determine college admittance. Opponents of these tests claim that these tests are not accurate measures of students potential or ability and serve as an inequitable barrier to entry. Lately, more and more schools are opting to drop the SAT/ACT requirement for their Fall 2021 applications ([*read more about this here*](https://www.cnn.com/2020/04/14/us/coronavirus-colleges-sat-act-test-trnd/index.html))."
   ]
  },
  {
   "cell_type": "markdown",
   "metadata": {},
   "source": [
    "**To-Do:** *Fill out this cell (or edit the above cell) with any other background or information that is necessary for your problem statement.*"
   ]
  },
  {
   "cell_type": "markdown",
   "metadata": {},
   "source": [
    "### Choose your Data\n",
    "\n",
    "There are 10 datasets included in the [`data`](./data/) folder for this project. You are required to pick **at least two** of these to complete your analysis. Feel free to use more than two if you would like, or add other relevant datasets you find online.\n",
    "\n",
    "* [`act_2017.csv`](./data/act_2017.csv): 2017 ACT Scores by State\n",
    "* [`act_2018.csv`](./data/act_2018.csv): 2018 ACT Scores by State\n",
    "* [`act_2019.csv`](./data/act_2019.csv): 2019 ACT Scores by State\n",
    "* [`act_2019_ca.csv`](./data/act_2019_ca.csv): 2019 ACT Scores in California by School\n",
    "* [`sat_2017.csv`](./data/sat_2017.csv): 2017 SAT Scores by State\n",
    "* [`sat_2018.csv`](./data/sat_2018.csv): 2018 SAT Scores by State\n",
    "* [`sat_2019.csv`](./data/sat_2019.csv): 2019 SAT Scores by State\n",
    "* [`sat_2019_by_intended_college_major.csv`](./data/sat_2019_by_intended_college_major.csv): 2019 SAT Scores by Intended College Major\n",
    "* [`sat_2019_ca.csv`](./data/sat_2019_ca.csv): 2019 SAT Scores in California by School\n",
    "* [`sat_act_by_college.csv`](./data/sat_act_by_college.csv): Ranges of Accepted ACT & SAT Student Scores by Colleges"
   ]
  },
  {
   "cell_type": "markdown",
   "metadata": {},
   "source": [
    "**To-Do:** *Fill out this cell with the datasets you will use for your analysis. Write a brief description of the contents for each dataset that you choose.*"
   ]
  },
  {
   "cell_type": "code",
   "execution_count": 2,
   "metadata": {},
   "outputs": [],
   "source": [
    "#Dataset 1: act_2019_ca.csv: 2019 ACT Scores in California by School\n",
    "# The information in this dataset contains the results for 12th graders across all school districts in CA. \n",
    "# The scores included are for Reading, Math, English and Science. The number of enrolled students in the high school \n",
    "# and the number of test takers is also documented. This data has information at the school, district, county and state level all included\n",
    "# in the same dataset, therefore, it's important to not double count data. \n",
    "\n",
    "#Dataset 2: sat_2019_ca.csv: 2019 SAT Scores in California by School\n",
    "# The information in this dataset contains the results for 12th graders and 11th graders across all school districts \n",
    "# in CA. The scores included are for English/Reading/Writing, and Math. The number of enrolled students in the high school \n",
    "# and the number of test takers is also documented. This data has information at the school, district, county and state level all included\n",
    "# in the same dataset, therefore, it's important to not double count data. "
   ]
  },
  {
   "cell_type": "markdown",
   "metadata": {},
   "source": [
    "### Outside Research"
   ]
  },
  {
   "cell_type": "markdown",
   "metadata": {},
   "source": [
    "Based on your problem statement and your chosen datasets, spend some time doing outside research on state policies or additional information that might be relevant. Summarize your findings below. If you bring in any outside tables or charts, make sure you are explicit about having borrowed them. If you quote any text, make sure that it renders as being quoted. **Make sure that you cite your sources.**"
   ]
  },
  {
   "cell_type": "markdown",
   "metadata": {},
   "source": [
    "**To-Do:** \n",
    "\n",
    "Type of counties in California:\n",
    "https://www.counties.org/sites/main/files/file-attachments/2020-june3-countycaucusesinfographic-4-final.pdf"
   ]
  },
  {
   "cell_type": "markdown",
   "metadata": {},
   "source": [
    "### Coding Challenges\n",
    "\n",
    "1. Manually calculate mean:\n",
    "\n",
    "    Write a function that takes in values and returns the mean of the values. Create a list of numbers that you test on your function to check to make sure your function works!\n",
    "    \n",
    "    *Note*: Do not use any mean methods built-in to any Python libraries to do this! This should be done without importing any additional libraries."
   ]
  },
  {
   "cell_type": "code",
   "execution_count": 3,
   "metadata": {},
   "outputs": [
    {
     "data": {
      "text/plain": [
       "24.75"
      ]
     },
     "execution_count": 3,
     "metadata": {},
     "output_type": "execute_result"
    }
   ],
   "source": [
    "# Code:\n",
    "\n",
    "def calculate_mean(input_values):\n",
    "    #Add the values\n",
    "    sum_values = sum(input_values)\n",
    "    #Divide the sum by the length of the input values\n",
    "    mean = sum_values/len(input_values)\n",
    "    \n",
    "    return mean\n",
    "\n",
    "# Test function\n",
    "calculate_mean([34, 25, 38, 2])"
   ]
  },
  {
   "cell_type": "markdown",
   "metadata": {},
   "source": [
    "2. Manually calculate standard deviation:\n",
    "\n",
    "    The formula for standard deviation is below:\n",
    "\n",
    "    $$\\sigma = \\sqrt{\\frac{1}{n}\\sum_{i=1}^n(x_i - \\mu)^2}$$\n",
    "\n",
    "    Where $x_i$ represents each value in the dataset, $\\mu$ represents the mean of all values in the dataset and $n$ represents the number of values in the dataset.\n",
    "\n",
    "    Write a function that takes in values and returns the standard deviation of the values using the formula above. Hint: use the function you wrote above to calculate the mean! Use the list of numbers you created above to test on your function.\n",
    "    \n",
    "    *Note*: Do not use any standard deviation methods built-in to any Python libraries to do this! This should be done without importing any additional libraries."
   ]
  },
  {
   "cell_type": "code",
   "execution_count": 4,
   "metadata": {},
   "outputs": [
    {
     "data": {
      "text/plain": [
       "13.953046262375826"
      ]
     },
     "execution_count": 4,
     "metadata": {},
     "output_type": "execute_result"
    }
   ],
   "source": [
    "# Code:\n",
    "def calculate_std(input_values):\n",
    "    \n",
    "    # Remove non-number values\n",
    "    numbers_only = [num for num in input_values if num>=0 or num<0]\n",
    "    \n",
    "    # Create a variable to store the mean of the dataset\n",
    "    mean = calculate_mean(numbers_only)\n",
    "    \n",
    "    # Create a variable to store the length of the dataset\n",
    "    length = len(numbers_only)\n",
    "    \n",
    "    #Create a variable to store the sum of each number in the dataset minues the mean of the dataset\n",
    "    temp_sum = 0\n",
    "    \n",
    "    #Iterate through the dataset\n",
    "    for i in range(length):\n",
    "        temp_sum = temp_sum + ((numbers_only[i] - mean)**2)\n",
    "        \n",
    "    sigma = (temp_sum/length)**0.5 \n",
    "    \n",
    "    return sigma\n",
    "\n",
    "#Test function\n",
    "calculate_std([34, 25 , 38, 2])"
   ]
  },
  {
   "cell_type": "markdown",
   "metadata": {},
   "source": [
    "3. Data cleaning function:\n",
    "    \n",
    "    Write a function that takes in a string that is a number and a percent symbol (ex. '50%', '30.5%', etc.) and converts this to a float that is the decimal approximation of the percent. For example, inputting '50%' in your function should return 0.5, '30.5%' should return 0.305, etc. Make sure to test your function to make sure it works!\n",
    "\n",
    "You will use these functions later on in the project!"
   ]
  },
  {
   "cell_type": "code",
   "execution_count": 5,
   "metadata": {},
   "outputs": [
    {
     "data": {
      "text/plain": [
       "0.598"
      ]
     },
     "execution_count": 5,
     "metadata": {},
     "output_type": "execute_result"
    }
   ],
   "source": [
    "# Code:\n",
    "def percent_to_decimal(input):\n",
    "    num = input[:-1]\n",
    "    to_num = float(num)\n",
    "    to_decimal = to_num/100\n",
    "    \n",
    "    return to_decimal\n",
    "\n",
    "#Test function\n",
    "percent_to_decimal('59.8%')"
   ]
  },
  {
   "cell_type": "markdown",
   "metadata": {},
   "source": [
    "--- \n",
    "# Part 2\n",
    "\n",
    "Part 2 requires knowledge of Pandas, EDA, data cleaning, and data visualization.\n",
    "\n",
    "---"
   ]
  },
  {
   "cell_type": "markdown",
   "metadata": {},
   "source": [
    "*All libraries used should be added here*"
   ]
  },
  {
   "cell_type": "code",
   "execution_count": 6,
   "metadata": {},
   "outputs": [],
   "source": [
    "# Imports:\n",
    "import numpy as np\n",
    "import pandas as pd\n",
    "import matplotlib.pyplot as plt\n",
    "import seaborn as sns"
   ]
  },
  {
   "cell_type": "markdown",
   "metadata": {},
   "source": [
    "## Data Import and Cleaning"
   ]
  },
  {
   "cell_type": "markdown",
   "metadata": {},
   "source": [
    "### Data Import & Cleaning\n",
    "\n",
    "Import the datasets that you selected for this project and go through the following steps at a minimum. You are welcome to do further cleaning as you feel necessary:\n",
    "1. Display the data: print the first 5 rows of each dataframe to your Jupyter notebook.\n",
    "2. Check for missing values.\n",
    "3. Check for any obvious issues with the observations (keep in mind the minimum & maximum possible values for each test/subtest).\n",
    "4. Fix any errors you identified in steps 2-3.\n",
    "5. Display the data types of each feature.\n",
    "6. Fix any incorrect data types found in step 5.\n",
    "    - Fix any individual values preventing other columns from being the appropriate type.\n",
    "    - If your dataset has a column of percents (ex. '50%', '30.5%', etc.), use the function you wrote in Part 1 (coding challenges, number 3) to convert this to floats! *Hint*: use `.map()` or `.apply()`.\n",
    "7. Rename Columns.\n",
    "    - Column names should be all lowercase.\n",
    "    - Column names should not contain spaces (underscores will suffice--this allows for using the `df.column_name` method to access columns in addition to `df['column_name']`).\n",
    "    - Column names should be unique and informative.\n",
    "8. Drop unnecessary rows (if needed).\n",
    "9. Merge dataframes that can be merged.\n",
    "10. Perform any additional cleaning that you feel is necessary.\n",
    "11. Save your cleaned and merged dataframes as csv files."
   ]
  },
  {
   "cell_type": "code",
   "execution_count": 7,
   "metadata": {
    "scrolled": false
   },
   "outputs": [
    {
     "data": {
      "text/html": [
       "<div>\n",
       "<style scoped>\n",
       "    .dataframe tbody tr th:only-of-type {\n",
       "        vertical-align: middle;\n",
       "    }\n",
       "\n",
       "    .dataframe tbody tr th {\n",
       "        vertical-align: top;\n",
       "    }\n",
       "\n",
       "    .dataframe thead th {\n",
       "        text-align: right;\n",
       "    }\n",
       "</style>\n",
       "<table border=\"1\" class=\"dataframe\">\n",
       "  <thead>\n",
       "    <tr style=\"text-align: right;\">\n",
       "      <th></th>\n",
       "      <th>CDS</th>\n",
       "      <th>CCode</th>\n",
       "      <th>CDCode</th>\n",
       "      <th>SCode</th>\n",
       "      <th>RType</th>\n",
       "      <th>SName</th>\n",
       "      <th>DName</th>\n",
       "      <th>CName</th>\n",
       "      <th>Enroll12</th>\n",
       "      <th>NumTstTakr</th>\n",
       "      <th>AvgScrRead</th>\n",
       "      <th>AvgScrEng</th>\n",
       "      <th>AvgScrMath</th>\n",
       "      <th>AvgScrSci</th>\n",
       "      <th>NumGE21</th>\n",
       "      <th>PctGE21</th>\n",
       "      <th>Year</th>\n",
       "      <th>Unnamed: 17</th>\n",
       "    </tr>\n",
       "  </thead>\n",
       "  <tbody>\n",
       "    <tr>\n",
       "      <th>0</th>\n",
       "      <td>3.366993e+13</td>\n",
       "      <td>33.0</td>\n",
       "      <td>3366993.0</td>\n",
       "      <td>129882.0</td>\n",
       "      <td>S</td>\n",
       "      <td>21st Century Learning Institute</td>\n",
       "      <td>Beaumont Unified</td>\n",
       "      <td>Riverside</td>\n",
       "      <td>18.0</td>\n",
       "      <td>0.0</td>\n",
       "      <td>NaN</td>\n",
       "      <td>NaN</td>\n",
       "      <td>NaN</td>\n",
       "      <td>NaN</td>\n",
       "      <td>NaN</td>\n",
       "      <td>NaN</td>\n",
       "      <td>2018-19</td>\n",
       "      <td>NaN</td>\n",
       "    </tr>\n",
       "    <tr>\n",
       "      <th>1</th>\n",
       "      <td>1.964212e+13</td>\n",
       "      <td>19.0</td>\n",
       "      <td>1964212.0</td>\n",
       "      <td>1995596.0</td>\n",
       "      <td>S</td>\n",
       "      <td>ABC Secondary (Alternative)</td>\n",
       "      <td>ABC Unified</td>\n",
       "      <td>Los Angeles</td>\n",
       "      <td>58.0</td>\n",
       "      <td>0.0</td>\n",
       "      <td>NaN</td>\n",
       "      <td>NaN</td>\n",
       "      <td>NaN</td>\n",
       "      <td>NaN</td>\n",
       "      <td>NaN</td>\n",
       "      <td>NaN</td>\n",
       "      <td>2018-19</td>\n",
       "      <td>NaN</td>\n",
       "    </tr>\n",
       "    <tr>\n",
       "      <th>2</th>\n",
       "      <td>1.563776e+13</td>\n",
       "      <td>15.0</td>\n",
       "      <td>1563776.0</td>\n",
       "      <td>1530377.0</td>\n",
       "      <td>S</td>\n",
       "      <td>Abraham Lincoln Alternative</td>\n",
       "      <td>Southern Kern Unified</td>\n",
       "      <td>Kern</td>\n",
       "      <td>18.0</td>\n",
       "      <td>0.0</td>\n",
       "      <td>NaN</td>\n",
       "      <td>NaN</td>\n",
       "      <td>NaN</td>\n",
       "      <td>NaN</td>\n",
       "      <td>NaN</td>\n",
       "      <td>NaN</td>\n",
       "      <td>2018-19</td>\n",
       "      <td>NaN</td>\n",
       "    </tr>\n",
       "    <tr>\n",
       "      <th>3</th>\n",
       "      <td>4.369666e+13</td>\n",
       "      <td>43.0</td>\n",
       "      <td>4369666.0</td>\n",
       "      <td>4333795.0</td>\n",
       "      <td>S</td>\n",
       "      <td>Abraham Lincoln High</td>\n",
       "      <td>San Jose Unified</td>\n",
       "      <td>Santa Clara</td>\n",
       "      <td>463.0</td>\n",
       "      <td>53.0</td>\n",
       "      <td>23</td>\n",
       "      <td>22</td>\n",
       "      <td>22</td>\n",
       "      <td>23</td>\n",
       "      <td>34</td>\n",
       "      <td>64.15</td>\n",
       "      <td>2018-19</td>\n",
       "      <td>NaN</td>\n",
       "    </tr>\n",
       "    <tr>\n",
       "      <th>4</th>\n",
       "      <td>1.964733e+13</td>\n",
       "      <td>19.0</td>\n",
       "      <td>1964733.0</td>\n",
       "      <td>1935121.0</td>\n",
       "      <td>S</td>\n",
       "      <td>Abraham Lincoln Senior High</td>\n",
       "      <td>Los Angeles Unified</td>\n",
       "      <td>Los Angeles</td>\n",
       "      <td>226.0</td>\n",
       "      <td>19.0</td>\n",
       "      <td>21</td>\n",
       "      <td>20</td>\n",
       "      <td>23</td>\n",
       "      <td>22</td>\n",
       "      <td>11</td>\n",
       "      <td>57.89</td>\n",
       "      <td>2018-19</td>\n",
       "      <td>NaN</td>\n",
       "    </tr>\n",
       "  </tbody>\n",
       "</table>\n",
       "</div>"
      ],
      "text/plain": [
       "            CDS  CCode     CDCode      SCode RType  \\\n",
       "0  3.366993e+13   33.0  3366993.0   129882.0     S   \n",
       "1  1.964212e+13   19.0  1964212.0  1995596.0     S   \n",
       "2  1.563776e+13   15.0  1563776.0  1530377.0     S   \n",
       "3  4.369666e+13   43.0  4369666.0  4333795.0     S   \n",
       "4  1.964733e+13   19.0  1964733.0  1935121.0     S   \n",
       "\n",
       "                             SName                  DName        CName  \\\n",
       "0  21st Century Learning Institute       Beaumont Unified    Riverside   \n",
       "1      ABC Secondary (Alternative)            ABC Unified  Los Angeles   \n",
       "2      Abraham Lincoln Alternative  Southern Kern Unified         Kern   \n",
       "3             Abraham Lincoln High       San Jose Unified  Santa Clara   \n",
       "4      Abraham Lincoln Senior High    Los Angeles Unified  Los Angeles   \n",
       "\n",
       "   Enroll12  NumTstTakr AvgScrRead AvgScrEng AvgScrMath AvgScrSci NumGE21  \\\n",
       "0      18.0         0.0        NaN       NaN        NaN       NaN     NaN   \n",
       "1      58.0         0.0        NaN       NaN        NaN       NaN     NaN   \n",
       "2      18.0         0.0        NaN       NaN        NaN       NaN     NaN   \n",
       "3     463.0        53.0         23        22         22        23      34   \n",
       "4     226.0        19.0         21        20         23        22      11   \n",
       "\n",
       "  PctGE21     Year  Unnamed: 17  \n",
       "0     NaN  2018-19          NaN  \n",
       "1     NaN  2018-19          NaN  \n",
       "2     NaN  2018-19          NaN  \n",
       "3   64.15  2018-19          NaN  \n",
       "4   57.89  2018-19          NaN  "
      ]
     },
     "execution_count": 7,
     "metadata": {},
     "output_type": "execute_result"
    }
   ],
   "source": [
    "# Read the file for the ACT dataset and create DataFrame df_act\n",
    "df_act = pd.read_csv('../data/act_2019_ca.csv')\n",
    "\n",
    "# Display the first five rows for ACT 2019 CA\n",
    "df_act.head()"
   ]
  },
  {
   "cell_type": "code",
   "execution_count": 8,
   "metadata": {},
   "outputs": [
    {
     "data": {
      "text/plain": [
       "CDS               1\n",
       "CCode             1\n",
       "CDCode            1\n",
       "SCode           523\n",
       "RType             1\n",
       "SName           581\n",
       "DName            59\n",
       "CName             1\n",
       "Enroll12          1\n",
       "NumTstTakr        1\n",
       "AvgScrRead      357\n",
       "AvgScrEng       357\n",
       "AvgScrMath      357\n",
       "AvgScrSci       357\n",
       "NumGE21         357\n",
       "PctGE21         357\n",
       "Year              1\n",
       "Unnamed: 17    2310\n",
       "dtype: int64"
      ]
     },
     "execution_count": 8,
     "metadata": {},
     "output_type": "execute_result"
    }
   ],
   "source": [
    "# 2 - Check for missing values in each column\n",
    "df_act.isnull().sum()"
   ]
  },
  {
   "cell_type": "code",
   "execution_count": 9,
   "metadata": {},
   "outputs": [],
   "source": [
    "# Check for any obvious issues with the observations \n",
    "\n",
    "# The last column and last row in the DataFrame are empty\n",
    "# Over one quarter of the total entriews for school code and school name are missing. This is because these \n",
    "# entries were given by county/district/state and not from the school, so the school code/name does not apply.\n",
    "# These entries will not be deleted fbut they will be filter out during the analysis to not double count information. \n",
    "# For all columns with information on scores, 357 don't have a value. This is because the school/district/county \n",
    "# didn't submit any test score data. These entries will be kept in the DataFrame for questions related to participation"
   ]
  },
  {
   "cell_type": "code",
   "execution_count": 10,
   "metadata": {},
   "outputs": [],
   "source": [
    "# Remove the last column in this DataFrame since it does not contain any values\n",
    "df_act.drop(columns='Unnamed: 17', inplace=True)\n",
    "# Remove last row in this DataFrame since it does not contain any values\n",
    "df_act.drop([2309], inplace =True)\n"
   ]
  },
  {
   "cell_type": "code",
   "execution_count": 11,
   "metadata": {},
   "outputs": [
    {
     "data": {
      "text/plain": [
       "CDS           float64\n",
       "CCode         float64\n",
       "CDCode        float64\n",
       "SCode         float64\n",
       "RType          object\n",
       "SName          object\n",
       "DName          object\n",
       "CName          object\n",
       "Enroll12      float64\n",
       "NumTstTakr    float64\n",
       "AvgScrRead     object\n",
       "AvgScrEng      object\n",
       "AvgScrMath     object\n",
       "AvgScrSci      object\n",
       "NumGE21        object\n",
       "PctGE21        object\n",
       "Year           object\n",
       "dtype: object"
      ]
     },
     "execution_count": 11,
     "metadata": {},
     "output_type": "execute_result"
    }
   ],
   "source": [
    "# Review the data types of each column/feature\n",
    "df_act.dtypes"
   ]
  },
  {
   "cell_type": "code",
   "execution_count": 12,
   "metadata": {},
   "outputs": [],
   "source": [
    "# The columns containing School/City/County codes are numeric values and they are stored with the data type float.\n",
    "# Since these values are not meant for statistical analysis but rather to be used as IDs for the institutions,\n",
    "# these values will be changed to object data types. "
   ]
  },
  {
   "cell_type": "code",
   "execution_count": 13,
   "metadata": {},
   "outputs": [],
   "source": [
    "# This function converts a value to a string \n",
    "def clean_codes(code_cell):\n",
    "        return str(code_cell)"
   ]
  },
  {
   "cell_type": "code",
   "execution_count": 14,
   "metadata": {},
   "outputs": [],
   "source": [
    "# The columns containing the test scores are numeric however, they are stored as object because there are values \n",
    "# an asterisk (*). Since these values are  meant for statistical analysis they will be changed to data type float."
   ]
  },
  {
   "cell_type": "code",
   "execution_count": 15,
   "metadata": {},
   "outputs": [],
   "source": [
    "# This function replaces the asterisk character (*) with NaN or converts any value to float\n",
    "def clean_score(score_cell):\n",
    "    if score_cell == '*':\n",
    "        return np.nan\n",
    "    else:\n",
    "        return float(score_cell)"
   ]
  },
  {
   "cell_type": "code",
   "execution_count": 16,
   "metadata": {},
   "outputs": [],
   "source": [
    "# Fix any incorrect data types\n",
    "# Invoke the function clean_score to change the datatype for the columns below from object to float\n",
    "df_act['AvgScrRead'] = df_act['AvgScrRead'].map(clean_score)\n",
    "df_act['AvgScrEng'] = df_act['AvgScrEng'].map(clean_score)\n",
    "df_act['AvgScrMath'] = df_act['AvgScrMath'].map(clean_score)\n",
    "df_act['AvgScrSci'] = df_act['AvgScrSci'].map(clean_score)\n",
    "df_act['NumGE21'] = df_act['NumGE21'].map(clean_score)\n",
    "df_act['PctGE21'] = df_act['PctGE21'].map(clean_score)"
   ]
  },
  {
   "cell_type": "code",
   "execution_count": 17,
   "metadata": {
    "scrolled": true
   },
   "outputs": [],
   "source": [
    "# Fix any incorrect data types\n",
    "# Invoke the function clean_codes to change the datatype for the columns below from float to object\n",
    "df_act['CDS'] = df_act['CDS'].map(clean_codes)\n",
    "df_act['CCode'] = df_act['CCode'].map(clean_codes)\n",
    "df_act['CDCode'] = df_act['CDCode'].map(clean_codes)\n",
    "df_act['SCode'] = df_act['SCode'].map(clean_codes)"
   ]
  },
  {
   "cell_type": "code",
   "execution_count": 18,
   "metadata": {},
   "outputs": [
    {
     "data": {
      "text/plain": [
       "CDS             0\n",
       "CCode           0\n",
       "CDCode          0\n",
       "SCode           0\n",
       "RType           0\n",
       "SName         580\n",
       "DName          58\n",
       "CName           0\n",
       "Enroll12        0\n",
       "NumTstTakr      0\n",
       "AvgScrRead    888\n",
       "AvgScrEng     888\n",
       "AvgScrMath    888\n",
       "AvgScrSci     888\n",
       "NumGE21       888\n",
       "PctGE21       888\n",
       "Year            0\n",
       "dtype: int64"
      ]
     },
     "execution_count": 18,
     "metadata": {},
     "output_type": "execute_result"
    }
   ],
   "source": [
    "df_act.isnull().sum()"
   ]
  },
  {
   "cell_type": "code",
   "execution_count": 19,
   "metadata": {},
   "outputs": [
    {
     "data": {
      "text/plain": [
       "{'CDS': 'cds',\n",
       " 'CCode': 'ccode',\n",
       " 'CDCode': 'cdcode',\n",
       " 'SCode': 'scode',\n",
       " 'RType': 'rtype',\n",
       " 'SName': 'sname',\n",
       " 'DName': 'dname',\n",
       " 'CName': 'cname',\n",
       " 'Enroll12': 'enroll12',\n",
       " 'NumTstTakr': 'numtsttakr',\n",
       " 'AvgScrRead': 'avgscrread',\n",
       " 'AvgScrEng': 'avgscreng',\n",
       " 'AvgScrMath': 'avgscrmath',\n",
       " 'AvgScrSci': 'avgscrsci',\n",
       " 'NumGE21': 'numge21',\n",
       " 'PctGE21': 'pctge21',\n",
       " 'Year': 'year'}"
      ]
     },
     "execution_count": 19,
     "metadata": {},
     "output_type": "execute_result"
    }
   ],
   "source": [
    "# Rename columns so they are lower case, snake_case, and with clear titles\n",
    "\n",
    "# Get the name of the current columns and change them to lower case\n",
    "{c: c.lower() for c in df_act.columns}"
   ]
  },
  {
   "cell_type": "code",
   "execution_count": 20,
   "metadata": {
    "scrolled": true
   },
   "outputs": [],
   "source": [
    "# Change the column names so they describe better the information in the columns. Create a new column names dictionary\n",
    "\n",
    "new_columns_dict = {'CDS': 'code',\n",
    " 'CCode': 'county_code',\n",
    " 'CDCode': 'district_code',\n",
    " 'SCode': 'school_code',\n",
    " 'RType': 'record_type',\n",
    " 'SName': 'school_name',\n",
    " 'DName': 'district_name',\n",
    " 'CName': 'county_name',\n",
    " 'Enroll12': '12grade_enrollment',\n",
    " 'NumTstTakr': 'test_takers',\n",
    " 'AvgScrRead': 'avg_scr_read',\n",
    " 'AvgScrEng': 'avg_scr_eng',\n",
    " 'AvgScrMath': 'avg_scr_math',\n",
    " 'AvgScrSci': 'avg_scr_sci',\n",
    " 'NumGE21': 'tst_takers_scr>21',\n",
    " 'PctGE21': 'tst_takers%_scr>21',\n",
    " 'Year': 'tst_year'}\n",
    "\n",
    "\n",
    "# Permanently rename the columns in the DataFrame with the names in new_columns_dict\n",
    "df_act.rename(columns=new_columns_dict, inplace = True)"
   ]
  },
  {
   "cell_type": "code",
   "execution_count": 21,
   "metadata": {},
   "outputs": [
    {
     "data": {
      "text/plain": [
       "(1728, 17)"
      ]
     },
     "execution_count": 21,
     "metadata": {},
     "output_type": "execute_result"
    }
   ],
   "source": [
    "# Check how many rows are in this dataset\n",
    "df_act.shape\n",
    "\n",
    "# Create a new DataFrame with information only for school records since this is the lowest level. The information \n",
    "# for District, County and State records is a summary of school data.\n",
    "df_schools_act = df_act[df_act['record_type']=='S']\n",
    "\n",
    "# Check how many rows are in this dataset\n",
    "df_schools_act.shape"
   ]
  },
  {
   "cell_type": "code",
   "execution_count": 22,
   "metadata": {},
   "outputs": [],
   "source": [
    "# Save the ACT cleaned data to a CSV file\n",
    "\n",
    "df_schools_act.to_csv('../data/cleaned_act_data_by_school',index=False)\n",
    "df_act.to_csv('../data/cleaned_act_data',index=False)"
   ]
  },
  {
   "cell_type": "code",
   "execution_count": 23,
   "metadata": {
    "scrolled": true
   },
   "outputs": [
    {
     "data": {
      "text/plain": [
       "CDS                      float64\n",
       "CCode                    float64\n",
       "CDCode                   float64\n",
       "SCode                    float64\n",
       "RType                     object\n",
       "SName                     object\n",
       "DName                     object\n",
       "CName                     object\n",
       "Enroll12                 float64\n",
       "NumTSTTakr12             float64\n",
       "NumERWBenchmark12         object\n",
       "PctERWBenchmark12         object\n",
       "NumMathBenchmark12        object\n",
       "PctMathBenchmark12        object\n",
       "Enroll11                 float64\n",
       "NumTSTTakr11             float64\n",
       "NumERWBenchmark11         object\n",
       "PctERWBenchmark11         object\n",
       "NumMathBenchmark11        object\n",
       "PctMathBenchmark11        object\n",
       "TotNumBothBenchmark12     object\n",
       "PctBothBenchmark12        object\n",
       "TotNumBothBenchmark11     object\n",
       "PctBothBenchmark11        object\n",
       "Year                      object\n",
       "dtype: object"
      ]
     },
     "execution_count": 23,
     "metadata": {},
     "output_type": "execute_result"
    }
   ],
   "source": [
    "####################################################################\n",
    "\n",
    "# Read the file for the SAT dataset and create DataFrame df_sat\n",
    "df_sat = pd.read_csv('../data/sat_2019_ca.csv')\n",
    "df_sat.head()\n",
    "df_sat.drop(columns='Unnamed: 25', inplace=True)\n",
    "df_sat.drop([2579], inplace =True)\n",
    "df_sat.dtypes"
   ]
  },
  {
   "cell_type": "code",
   "execution_count": 24,
   "metadata": {},
   "outputs": [],
   "source": [
    "# Invoke the function clean_score to change the datatype for the columns below from object to float\n",
    "df_sat['NumERWBenchmark12'] = df_sat['NumERWBenchmark12'].map(clean_score)\n",
    "df_sat['PctERWBenchmark12'] = df_sat['PctERWBenchmark12'].map(clean_score)\n",
    "df_sat['NumMathBenchmark12'] = df_sat['NumMathBenchmark12'].map(clean_score)\n",
    "df_sat['PctMathBenchmark12'] = df_sat['PctMathBenchmark12'].map(clean_score)\n",
    "df_sat['NumERWBenchmark11'] = df_sat['NumERWBenchmark11'].map(clean_score)\n",
    "df_sat['PctERWBenchmark11'] = df_sat['PctERWBenchmark11'].map(clean_score)\n",
    "df_sat['NumMathBenchmark11'] = df_sat['NumMathBenchmark11'].map(clean_score)\n",
    "df_sat['PctMathBenchmark11'] = df_sat['PctMathBenchmark11'].map(clean_score)\n",
    "df_sat['TotNumBothBenchmark12'] = df_sat['TotNumBothBenchmark12'].map(clean_score)\n",
    "df_sat['PctBothBenchmark12'] = df_sat['PctBothBenchmark12'].map(clean_score)\n",
    "df_sat['TotNumBothBenchmark11'] = df_sat['TotNumBothBenchmark11'].map(clean_score)\n",
    "df_sat['PctBothBenchmark11'] = df_sat['PctBothBenchmark11'].map(clean_score)"
   ]
  },
  {
   "cell_type": "code",
   "execution_count": 25,
   "metadata": {},
   "outputs": [],
   "source": [
    "# Invoke the function clean_codes to change the datatype for the columns below from float to object\n",
    "df_sat['CDS'] = df_sat['CDS'].map(clean_codes)\n",
    "df_sat['CCode'] = df_sat['CCode'].map(clean_codes)\n",
    "df_sat['CDCode'] = df_sat['CDCode'].map(clean_codes)\n",
    "df_sat['SCode'] = df_sat['SCode'].map(clean_codes)"
   ]
  },
  {
   "cell_type": "code",
   "execution_count": 26,
   "metadata": {},
   "outputs": [
    {
     "data": {
      "text/plain": [
       "CDS                       object\n",
       "CCode                     object\n",
       "CDCode                    object\n",
       "SCode                     object\n",
       "RType                     object\n",
       "SName                     object\n",
       "DName                     object\n",
       "CName                     object\n",
       "Enroll12                 float64\n",
       "NumTSTTakr12             float64\n",
       "NumERWBenchmark12        float64\n",
       "PctERWBenchmark12        float64\n",
       "NumMathBenchmark12       float64\n",
       "PctMathBenchmark12       float64\n",
       "Enroll11                 float64\n",
       "NumTSTTakr11             float64\n",
       "NumERWBenchmark11        float64\n",
       "PctERWBenchmark11        float64\n",
       "NumMathBenchmark11       float64\n",
       "PctMathBenchmark11       float64\n",
       "TotNumBothBenchmark12    float64\n",
       "PctBothBenchmark12       float64\n",
       "TotNumBothBenchmark11    float64\n",
       "PctBothBenchmark11       float64\n",
       "Year                      object\n",
       "dtype: object"
      ]
     },
     "execution_count": 26,
     "metadata": {},
     "output_type": "execute_result"
    }
   ],
   "source": [
    "df_sat.dtypes"
   ]
  },
  {
   "cell_type": "code",
   "execution_count": 27,
   "metadata": {},
   "outputs": [],
   "source": [
    "# Change the column names so they describe better the information in the columns. Create a new column names dictionary\n",
    "\n",
    "# Get the name of the current columns and change them to lower case\n",
    "#{c: c.lower() for c in df_sat.columns}\n",
    "\n",
    "sat_new_columns_dict = {\n",
    " 'CDS': 'code',\n",
    " 'CCode': 'county_code',\n",
    " 'CDCode': 'district_code',\n",
    " 'SCode': 'school_code',\n",
    " 'RType': 'record_type',\n",
    " 'SName': 'school_name',\n",
    " 'DName': 'district_name',\n",
    " 'CName': 'county_name',\n",
    " 'Enroll12': '12grade_enrollment',\n",
    " 'NumTSTTakr12': '12grade_test_takers',\n",
    " 'NumERWBenchmark12': '12graders_passing_ERW',\n",
    " 'PctERWBenchmark12': '12graders%_passing_ERW',\n",
    " 'NumMathBenchmark12': '12graders_passing_Math',\n",
    " 'PctMathBenchmark12': '12graders%_passing_Math',\n",
    " 'Enroll11': '11grade_enrollment',\n",
    " 'NumTSTTakr11': '11grade_test_takers',\n",
    " 'NumERWBenchmark11': '11graders_passing_ERW',\n",
    " 'PctERWBenchmark11': '11graders%_passing_ERW',\n",
    " 'NumMathBenchmark11': '11graders_passing_Math',\n",
    " 'PctMathBenchmark11': '11graders%_passing_Math',\n",
    " 'TotNumBothBenchmark12': '12graders_passing_both_tst',\n",
    " 'PctBothBenchmark12': '12graders%_passing_both_tst',\n",
    " 'TotNumBothBenchmark11': '11graders_passing_both_tst',\n",
    " 'PctBothBenchmark11': '11graders%_passing_both_tst',\n",
    " 'Year': 'test_year'}\n",
    "\n",
    "#Permanently rename the columns in the DataFrame with the names in sat_new_columns_dict\n",
    "df_sat.rename(columns=sat_new_columns_dict, inplace = True)"
   ]
  },
  {
   "cell_type": "code",
   "execution_count": 28,
   "metadata": {
    "scrolled": true
   },
   "outputs": [
    {
     "data": {
      "text/plain": [
       "code                             0\n",
       "county_code                      0\n",
       "district_code                    0\n",
       "school_code                      0\n",
       "record_type                      0\n",
       "school_name                      0\n",
       "district_name                    0\n",
       "county_name                      0\n",
       "12grade_enrollment               0\n",
       "12grade_test_takers              0\n",
       "12graders_passing_ERW          720\n",
       "12graders%_passing_ERW         720\n",
       "12graders_passing_Math         720\n",
       "12graders%_passing_Math        720\n",
       "11grade_enrollment               0\n",
       "11grade_test_takers              0\n",
       "11graders_passing_ERW          697\n",
       "11graders%_passing_ERW         697\n",
       "11graders_passing_Math         697\n",
       "11graders%_passing_Math        697\n",
       "12graders_passing_both_tst     720\n",
       "12graders%_passing_both_tst    720\n",
       "11graders_passing_both_tst     697\n",
       "11graders%_passing_both_tst    697\n",
       "test_year                        0\n",
       "dtype: int64"
      ]
     },
     "execution_count": 28,
     "metadata": {},
     "output_type": "execute_result"
    }
   ],
   "source": [
    "# Check how many rows are in this dataset\n",
    "df_sat.shape\n",
    "# Create a new DataFrame with information only for school records since this is the lowest level. The information \n",
    "# for District, County and State records is a summary of school data.\n",
    "df_schools_sat = df_sat[df_sat['record_type']=='S' ]\n",
    "# Check for null values in this dataset\n",
    "df_schools_sat.isnull().sum()"
   ]
  },
  {
   "cell_type": "code",
   "execution_count": 29,
   "metadata": {},
   "outputs": [],
   "source": [
    "# Save the SAT cleaned data to a CSV file\n",
    "df_schools_sat.to_csv('../data/cleaned_sat_data_by_school',index=False)\n",
    "df_sat.to_csv('../data/cleaned_sat_data',index=False)"
   ]
  },
  {
   "cell_type": "markdown",
   "metadata": {},
   "source": [
    "### Data Dictionary\n",
    "\n",
    "Now that we've fixed our data, and given it appropriate names, let's create a [data dictionary](http://library.ucmerced.edu/node/10249). \n",
    "\n",
    "A data dictionary provides a quick overview of features/variables/columns, alongside data types and descriptions. The more descriptive you can be, the more useful this document is.\n",
    "\n",
    "Example of a Fictional Data Dictionary Entry: \n",
    "\n",
    "|Feature|Type|Dataset|Description|\n",
    "|---|---|---|---|\n",
    "|**county_pop**|*integer*|2010 census|The population of the county (units in thousands, where 2.5 represents 2500 people).| \n",
    "|**per_poverty**|*float*|2010 census|The percent of the county over the age of 18 living below the 200% of official US poverty rate (units percent to two decimal places 98.10 means 98.1%)|\n",
    "\n",
    "[Here's a quick link to a short guide for formatting markdown in Jupyter notebooks](https://jupyter-notebook.readthedocs.io/en/stable/examples/Notebook/Working%20With%20Markdown%20Cells.html).\n",
    "\n",
    "Provided is the skeleton for formatting a markdown table, with columns headers that will help you create a data dictionary to quickly summarize your data, as well as some examples. **This would be a great thing to copy and paste into your custom README for this project.**\n",
    "\n",
    "*Note*: if you are unsure of what a feature is, check the source of the data! This can be found in the README."
   ]
  },
  {
   "cell_type": "markdown",
   "metadata": {},
   "source": [
    "**To-Do:** *Edit the table below to create your own data dictionary for the datasets you chose.*\n",
    "\n",
    "ACT Dataset\n",
    "\n",
    "|Feature|Type|Dataset|Description|\n",
    "|---|---|---|---|\n",
    "|code|object|ACT|The county, district, or school code|\n",
    "|county_code|object|ACT|The county code| \n",
    "|district_code|object|ACT|The district code| \n",
    "|school_code|object|ACT|The school code|  \n",
    "|record_type|object|ACT|The record type C=County, D=District, S=School, X=State| \n",
    "|school_name|object|ACT|The school name, N/A = County or District Level Record| \n",
    "|district_name|object|ACT|The district name, N/A = County or District Level Record| \n",
    "|county_name|object|ACT|The county name| \n",
    "|enrollment|int|ACT|Enrollment of grade 12| \n",
    "|test_takers|int|ACT|This is the number of ACT test takers| \n",
    "|avg_scr_read|int|ACT|Average ACT  Reading Score, an asterisk is displayed  for schools with 14 or fewer students taking the ACT in order to preserve the anonymity of the students. An N/A is displayed if there were no ACT test takers and the grade 12 enrollment is equal to or greater than 15| \n",
    "|avg_scr_eng|int|ACT|Average ACT  English Score, an asterisk is displayed  for schools with 14 or fewer students taking the ACT in order to preserve the anonymity of the students. An N/A is displayed if there were no ACT test takers and the grade 12 enrollment is equal to or greater than 15| \n",
    "|avg_scr_sci|int|ACT|Average ACT Science Score, an asterisk is displayed  for schools with 14 or fewer students taking the ACT in order to preserve the anonymity of the students. An N/A is displayed if there were no ACT test takers and the grade 12 enrollment is equal to or greater than 15| \n",
    "|avg_scr_math|int|ACT|Average ACT Math Score, an asterisk is displayed  for schools with 14 or fewer students taking the ACT in order to preserve the anonymity of the students. An N/A is displayed if there were no ACT test takers and the grade 12 enrollment is equal to or greater than 15| \n",
    "|tst_takers_scr>21|int|ACT|Number of Test Takers Whose ACT Composite Scores Are Greater or Equal to 21. An asterisk is displayed for schools with 14 or fewer students taking the ACT in order to preserve the anonymity of the students. An N/A is displayed if there were no ACT test takers and the grade 12 enrollment is equal to or greater than 15| \n",
    "|tst_takers%_scr>21|float|ACT|Percent of Test Takers Whose ACT Composite Scores Are Greater or Equal to 21.An asterisk is displayed for schools with 14 or fewer students taking the ACT in order to preserve the anonymity of the students. An N/A is displayed if there were no ACT test takers and the grade 12 enrollment is equal to or greater than 15.| \n",
    "|year|object|ACT|The ACT test administration year: 2018-19| \n",
    "\n",
    "*******************\n",
    "\n",
    "SAT Dataset\n",
    "\n",
    "|Feature|Type|Dataset|Description|\n",
    "|---|---|---|---|\n",
    "|code|object|SAT|The county, district, or school code|\n",
    "|county_code|object|SAT|The county code| \n",
    "|district_code|object|SAT|The district code| \n",
    "|school_code|object|SAT|The school code|  \n",
    "|record_type|object|SAT|The record type C=County, D=District, S=School, X=State| \n",
    "|school_name|object|SAT|The school name, N/A = County or District Level Record| \n",
    "|district_name|object|SAT|The district name, N/A = County or District Level Record| \n",
    "|county_name|object|SAT|The county name| \n",
    "|12grade_enrollment|int|SAT|Enrollment of grade 12| \n",
    "|12grade_test_takers|int|SAT|This is the number of SAT test takers in 12th grade| \n",
    "|12graders_passing_ERW|int|SAT|The number meeting the Evidence-Based Reading & Writing (ERW) benchmark established by the College Board based on the New 2016 SAT test format as of March 2016 for Grade 12| \n",
    "|12graders%_passing_ERW|float|SAT|The percent of students meeting the Evidence-Based Reading & Writing (ERW) benchmark established by the College Board based on the New 2016 SAT test format as of March 2016 for Grade 12| \n",
    "|12graders_passing_Math|int|SAT|The number of students who met or exceeded the benchmark for the New SAT Math test format as of March 2016 for Grade 12| \n",
    "|12graders%_passing_Math|float|SAT|The percent of students who met or exceeded the benchmark for SAT Math test for Grade 12| \n",
    "|11grade_enrollment|int|SAT|Enrollment of grade 11| \n",
    "|11grade_test_takers|int|SAT|This is the number of SAT test takers in 11th grade| \n",
    "|11graders_passing_ERW|int|SAT|The number meeting the Evidence-Based Reading & Writing (ERW) benchmark established by the College Board based on the New 2016 SAT test format as of March 2016 for Grade 11| \n",
    "|11graders%_passing_ERW|float|SAT|The percent of students who met or exceeded the benchmark for Evidence-Based Reading & Writing (ERW) test for Grade 11.| \n",
    "|11graders_passing_Math|int|SAT|or the New SAT Math test format as of March 2016 for Grade 11.| \n",
    "|11graders%_passing_Math|float|SAT|The percent of students who met or exceeded the benchmark for SAT Math test for Grade 11.| \n",
    "|12graders_passing_both_tst|int|SAT|The total number of students who met the benchmark of both Evidence-Based Reading & Writing (ERW) and Math Grade 12.|\n",
    "|12graders%_passing_both_tst|float|SAT|The percent of students who met the benchmark of both Evidence-Based Reading & Writing (ERW) and Math Grade 12.|\n",
    "|11graders_passing_both_tst|int|SAT|The total number of students who met the benchmark of both Evidence-Based Reading & Writing (ERW) and Math Grade 11.|\n",
    "|11graders%_passing_both_tst|float|SAT|The percent of students who met the benchmark of both Evidence-Based Reading & Writing (ERW) and Math Grade 11.|\n",
    "|year|object|SAT|The SAT test administration year: 2018-19| \n",
    "\n",
    " "
   ]
  },
  {
   "cell_type": "markdown",
   "metadata": {},
   "source": [
    "## Exploratory Data Analysis\n",
    "\n",
    "Complete the following steps to explore your data. You are welcome to do more EDA than the steps outlined here as you feel necessary:\n",
    "1. Summary Statistics.\n",
    "2. Use a **dictionary comprehension** to apply the standard deviation function you create in part 1 to each numeric column in the dataframe.  **No loops**.\n",
    "    - Assign the output to variable `sd` as a dictionary where: \n",
    "        - Each column name is now a key \n",
    "        - That standard deviation of the column is the value \n",
    "        - *Example Output :* `{'ACT_Math': 120, 'ACT_Reading': 120, ...}`\n",
    "3. Investigate trends in the data.\n",
    "    - Using sorting and/or masking (along with the `.head()` method to avoid printing our entire dataframe), consider questions relevant to your problem statement. Some examples are provided below (but feel free to change these questions for your specific problem):\n",
    "        - Which states have the highest and lowest participation rates for the 2017, 2019, or 2019 SAT and ACT?\n",
    "        - Which states have the highest and lowest mean total/composite scores for the 2017, 2019, or 2019 SAT and ACT?\n",
    "        - Do any states with 100% participation on a given test have a rate change year-to-year?\n",
    "        - Do any states show have >50% participation on *both* tests each year?\n",
    "        - Which colleges have the highest median SAT and ACT scores for admittance?\n",
    "        - Which California school districts have the highest and lowest mean test scores?\n",
    "    - **You should comment on your findings at each step in a markdown cell below your code block**. Make sure you include at least one example of sorting your dataframe by a column, and one example of using boolean filtering (i.e., masking) to select a subset of the dataframe."
   ]
  },
  {
   "cell_type": "code",
   "execution_count": 30,
   "metadata": {
    "scrolled": true
   },
   "outputs": [
    {
     "data": {
      "text/html": [
       "<div>\n",
       "<style scoped>\n",
       "    .dataframe tbody tr th:only-of-type {\n",
       "        vertical-align: middle;\n",
       "    }\n",
       "\n",
       "    .dataframe tbody tr th {\n",
       "        vertical-align: top;\n",
       "    }\n",
       "\n",
       "    .dataframe thead th {\n",
       "        text-align: right;\n",
       "    }\n",
       "</style>\n",
       "<table border=\"1\" class=\"dataframe\">\n",
       "  <thead>\n",
       "    <tr style=\"text-align: right;\">\n",
       "      <th></th>\n",
       "      <th>12grade_enrollment</th>\n",
       "      <th>test_takers</th>\n",
       "      <th>avg_scr_read</th>\n",
       "      <th>avg_scr_eng</th>\n",
       "      <th>avg_scr_math</th>\n",
       "      <th>avg_scr_sci</th>\n",
       "      <th>tst_takers_scr&gt;21</th>\n",
       "      <th>tst_takers%_scr&gt;21</th>\n",
       "    </tr>\n",
       "  </thead>\n",
       "  <tbody>\n",
       "    <tr>\n",
       "      <th>count</th>\n",
       "      <td>1728.000000</td>\n",
       "      <td>1728.000000</td>\n",
       "      <td>1016.000000</td>\n",
       "      <td>1016.000000</td>\n",
       "      <td>1016.000000</td>\n",
       "      <td>1016.000000</td>\n",
       "      <td>1016.000000</td>\n",
       "      <td>1016.000000</td>\n",
       "    </tr>\n",
       "    <tr>\n",
       "      <th>mean</th>\n",
       "      <td>256.806713</td>\n",
       "      <td>47.832176</td>\n",
       "      <td>21.870079</td>\n",
       "      <td>21.017717</td>\n",
       "      <td>21.270669</td>\n",
       "      <td>21.189961</td>\n",
       "      <td>43.673228</td>\n",
       "      <td>51.306850</td>\n",
       "    </tr>\n",
       "    <tr>\n",
       "      <th>std</th>\n",
       "      <td>219.558049</td>\n",
       "      <td>63.340530</td>\n",
       "      <td>3.823038</td>\n",
       "      <td>4.209031</td>\n",
       "      <td>3.499833</td>\n",
       "      <td>3.335189</td>\n",
       "      <td>50.111339</td>\n",
       "      <td>26.534076</td>\n",
       "    </tr>\n",
       "    <tr>\n",
       "      <th>min</th>\n",
       "      <td>0.000000</td>\n",
       "      <td>0.000000</td>\n",
       "      <td>12.000000</td>\n",
       "      <td>10.000000</td>\n",
       "      <td>14.000000</td>\n",
       "      <td>12.000000</td>\n",
       "      <td>0.000000</td>\n",
       "      <td>0.000000</td>\n",
       "    </tr>\n",
       "    <tr>\n",
       "      <th>25%</th>\n",
       "      <td>70.000000</td>\n",
       "      <td>2.000000</td>\n",
       "      <td>19.000000</td>\n",
       "      <td>18.000000</td>\n",
       "      <td>18.000000</td>\n",
       "      <td>19.000000</td>\n",
       "      <td>12.000000</td>\n",
       "      <td>28.570000</td>\n",
       "    </tr>\n",
       "    <tr>\n",
       "      <th>50%</th>\n",
       "      <td>167.500000</td>\n",
       "      <td>25.000000</td>\n",
       "      <td>22.000000</td>\n",
       "      <td>21.000000</td>\n",
       "      <td>21.000000</td>\n",
       "      <td>21.000000</td>\n",
       "      <td>24.000000</td>\n",
       "      <td>52.860000</td>\n",
       "    </tr>\n",
       "    <tr>\n",
       "      <th>75%</th>\n",
       "      <td>433.250000</td>\n",
       "      <td>69.000000</td>\n",
       "      <td>25.000000</td>\n",
       "      <td>24.000000</td>\n",
       "      <td>24.000000</td>\n",
       "      <td>24.000000</td>\n",
       "      <td>55.000000</td>\n",
       "      <td>74.700000</td>\n",
       "    </tr>\n",
       "    <tr>\n",
       "      <th>max</th>\n",
       "      <td>1135.000000</td>\n",
       "      <td>512.000000</td>\n",
       "      <td>32.000000</td>\n",
       "      <td>32.000000</td>\n",
       "      <td>32.000000</td>\n",
       "      <td>31.000000</td>\n",
       "      <td>392.000000</td>\n",
       "      <td>100.000000</td>\n",
       "    </tr>\n",
       "  </tbody>\n",
       "</table>\n",
       "</div>"
      ],
      "text/plain": [
       "       12grade_enrollment  test_takers  avg_scr_read  avg_scr_eng  \\\n",
       "count         1728.000000  1728.000000   1016.000000  1016.000000   \n",
       "mean           256.806713    47.832176     21.870079    21.017717   \n",
       "std            219.558049    63.340530      3.823038     4.209031   \n",
       "min              0.000000     0.000000     12.000000    10.000000   \n",
       "25%             70.000000     2.000000     19.000000    18.000000   \n",
       "50%            167.500000    25.000000     22.000000    21.000000   \n",
       "75%            433.250000    69.000000     25.000000    24.000000   \n",
       "max           1135.000000   512.000000     32.000000    32.000000   \n",
       "\n",
       "       avg_scr_math  avg_scr_sci  tst_takers_scr>21  tst_takers%_scr>21  \n",
       "count   1016.000000  1016.000000        1016.000000         1016.000000  \n",
       "mean      21.270669    21.189961          43.673228           51.306850  \n",
       "std        3.499833     3.335189          50.111339           26.534076  \n",
       "min       14.000000    12.000000           0.000000            0.000000  \n",
       "25%       18.000000    19.000000          12.000000           28.570000  \n",
       "50%       21.000000    21.000000          24.000000           52.860000  \n",
       "75%       24.000000    24.000000          55.000000           74.700000  \n",
       "max       32.000000    31.000000         392.000000          100.000000  "
      ]
     },
     "execution_count": 30,
     "metadata": {},
     "output_type": "execute_result"
    }
   ],
   "source": [
    "# Summary Statistics for the Numerical Features in ACT DataFrame for School Records only\n",
    "df_schools_act.describe()"
   ]
  },
  {
   "cell_type": "code",
   "execution_count": 31,
   "metadata": {},
   "outputs": [
    {
     "data": {
      "text/html": [
       "<div>\n",
       "<style scoped>\n",
       "    .dataframe tbody tr th:only-of-type {\n",
       "        vertical-align: middle;\n",
       "    }\n",
       "\n",
       "    .dataframe tbody tr th {\n",
       "        vertical-align: top;\n",
       "    }\n",
       "\n",
       "    .dataframe thead th {\n",
       "        text-align: right;\n",
       "    }\n",
       "</style>\n",
       "<table border=\"1\" class=\"dataframe\">\n",
       "  <thead>\n",
       "    <tr style=\"text-align: right;\">\n",
       "      <th></th>\n",
       "      <th>12grade_enrollment</th>\n",
       "      <th>12grade_test_takers</th>\n",
       "      <th>12graders_passing_ERW</th>\n",
       "      <th>12graders%_passing_ERW</th>\n",
       "      <th>12graders_passing_Math</th>\n",
       "      <th>12graders%_passing_Math</th>\n",
       "      <th>11grade_enrollment</th>\n",
       "      <th>11grade_test_takers</th>\n",
       "      <th>11graders_passing_ERW</th>\n",
       "      <th>11graders%_passing_ERW</th>\n",
       "      <th>11graders_passing_Math</th>\n",
       "      <th>11graders%_passing_Math</th>\n",
       "      <th>12graders_passing_both_tst</th>\n",
       "      <th>12graders%_passing_both_tst</th>\n",
       "      <th>11graders_passing_both_tst</th>\n",
       "      <th>11graders%_passing_both_tst</th>\n",
       "    </tr>\n",
       "  </thead>\n",
       "  <tbody>\n",
       "    <tr>\n",
       "      <th>count</th>\n",
       "      <td>1981.000000</td>\n",
       "      <td>1981.000000</td>\n",
       "      <td>1261.000000</td>\n",
       "      <td>1261.000000</td>\n",
       "      <td>1261.000000</td>\n",
       "      <td>1261.000000</td>\n",
       "      <td>1981.000000</td>\n",
       "      <td>1981.000000</td>\n",
       "      <td>1284.000000</td>\n",
       "      <td>1284.000000</td>\n",
       "      <td>1284.000000</td>\n",
       "      <td>1284.000000</td>\n",
       "      <td>1261.000000</td>\n",
       "      <td>1261.000000</td>\n",
       "      <td>1284.000000</td>\n",
       "      <td>1284.000000</td>\n",
       "    </tr>\n",
       "    <tr>\n",
       "      <th>mean</th>\n",
       "      <td>232.673397</td>\n",
       "      <td>85.985361</td>\n",
       "      <td>91.285488</td>\n",
       "      <td>66.655345</td>\n",
       "      <td>64.084853</td>\n",
       "      <td>44.378676</td>\n",
       "      <td>232.521454</td>\n",
       "      <td>104.278647</td>\n",
       "      <td>111.298287</td>\n",
       "      <td>69.589151</td>\n",
       "      <td>83.856698</td>\n",
       "      <td>51.493450</td>\n",
       "      <td>60.649485</td>\n",
       "      <td>41.948208</td>\n",
       "      <td>80.202492</td>\n",
       "      <td>49.109065</td>\n",
       "    </tr>\n",
       "    <tr>\n",
       "      <th>std</th>\n",
       "      <td>216.578502</td>\n",
       "      <td>105.430830</td>\n",
       "      <td>76.860187</td>\n",
       "      <td>21.480758</td>\n",
       "      <td>63.646481</td>\n",
       "      <td>23.747142</td>\n",
       "      <td>223.853889</td>\n",
       "      <td>136.226216</td>\n",
       "      <td>101.330828</td>\n",
       "      <td>24.417057</td>\n",
       "      <td>88.414332</td>\n",
       "      <td>28.341502</td>\n",
       "      <td>61.430688</td>\n",
       "      <td>23.732121</td>\n",
       "      <td>86.599369</td>\n",
       "      <td>28.375157</td>\n",
       "    </tr>\n",
       "    <tr>\n",
       "      <th>min</th>\n",
       "      <td>0.000000</td>\n",
       "      <td>0.000000</td>\n",
       "      <td>1.000000</td>\n",
       "      <td>1.280000</td>\n",
       "      <td>0.000000</td>\n",
       "      <td>0.000000</td>\n",
       "      <td>0.000000</td>\n",
       "      <td>0.000000</td>\n",
       "      <td>0.000000</td>\n",
       "      <td>0.000000</td>\n",
       "      <td>0.000000</td>\n",
       "      <td>0.000000</td>\n",
       "      <td>0.000000</td>\n",
       "      <td>0.000000</td>\n",
       "      <td>0.000000</td>\n",
       "      <td>0.000000</td>\n",
       "    </tr>\n",
       "    <tr>\n",
       "      <th>25%</th>\n",
       "      <td>53.000000</td>\n",
       "      <td>3.000000</td>\n",
       "      <td>31.000000</td>\n",
       "      <td>51.280000</td>\n",
       "      <td>16.000000</td>\n",
       "      <td>25.000000</td>\n",
       "      <td>45.000000</td>\n",
       "      <td>3.000000</td>\n",
       "      <td>35.000000</td>\n",
       "      <td>52.957500</td>\n",
       "      <td>21.000000</td>\n",
       "      <td>27.647500</td>\n",
       "      <td>15.000000</td>\n",
       "      <td>22.160000</td>\n",
       "      <td>19.000000</td>\n",
       "      <td>24.532500</td>\n",
       "    </tr>\n",
       "    <tr>\n",
       "      <th>50%</th>\n",
       "      <td>141.000000</td>\n",
       "      <td>47.000000</td>\n",
       "      <td>70.000000</td>\n",
       "      <td>69.810000</td>\n",
       "      <td>43.000000</td>\n",
       "      <td>42.490000</td>\n",
       "      <td>131.000000</td>\n",
       "      <td>54.000000</td>\n",
       "      <td>77.000000</td>\n",
       "      <td>75.000000</td>\n",
       "      <td>51.000000</td>\n",
       "      <td>52.290000</td>\n",
       "      <td>39.000000</td>\n",
       "      <td>39.660000</td>\n",
       "      <td>48.000000</td>\n",
       "      <td>49.360000</td>\n",
       "    </tr>\n",
       "    <tr>\n",
       "      <th>75%</th>\n",
       "      <td>398.000000</td>\n",
       "      <td>136.000000</td>\n",
       "      <td>133.000000</td>\n",
       "      <td>84.850000</td>\n",
       "      <td>92.000000</td>\n",
       "      <td>63.270000</td>\n",
       "      <td>416.000000</td>\n",
       "      <td>150.000000</td>\n",
       "      <td>161.000000</td>\n",
       "      <td>90.372500</td>\n",
       "      <td>116.250000</td>\n",
       "      <td>76.395000</td>\n",
       "      <td>87.000000</td>\n",
       "      <td>60.970000</td>\n",
       "      <td>112.000000</td>\n",
       "      <td>73.627500</td>\n",
       "    </tr>\n",
       "    <tr>\n",
       "      <th>max</th>\n",
       "      <td>1135.000000</td>\n",
       "      <td>932.000000</td>\n",
       "      <td>475.000000</td>\n",
       "      <td>100.000000</td>\n",
       "      <td>390.000000</td>\n",
       "      <td>100.000000</td>\n",
       "      <td>1218.000000</td>\n",
       "      <td>1058.000000</td>\n",
       "      <td>566.000000</td>\n",
       "      <td>100.000000</td>\n",
       "      <td>552.000000</td>\n",
       "      <td>100.000000</td>\n",
       "      <td>385.000000</td>\n",
       "      <td>100.000000</td>\n",
       "      <td>549.000000</td>\n",
       "      <td>99.680000</td>\n",
       "    </tr>\n",
       "  </tbody>\n",
       "</table>\n",
       "</div>"
      ],
      "text/plain": [
       "       12grade_enrollment  12grade_test_takers  12graders_passing_ERW  \\\n",
       "count         1981.000000          1981.000000            1261.000000   \n",
       "mean           232.673397            85.985361              91.285488   \n",
       "std            216.578502           105.430830              76.860187   \n",
       "min              0.000000             0.000000               1.000000   \n",
       "25%             53.000000             3.000000              31.000000   \n",
       "50%            141.000000            47.000000              70.000000   \n",
       "75%            398.000000           136.000000             133.000000   \n",
       "max           1135.000000           932.000000             475.000000   \n",
       "\n",
       "       12graders%_passing_ERW  12graders_passing_Math  \\\n",
       "count             1261.000000             1261.000000   \n",
       "mean                66.655345               64.084853   \n",
       "std                 21.480758               63.646481   \n",
       "min                  1.280000                0.000000   \n",
       "25%                 51.280000               16.000000   \n",
       "50%                 69.810000               43.000000   \n",
       "75%                 84.850000               92.000000   \n",
       "max                100.000000              390.000000   \n",
       "\n",
       "       12graders%_passing_Math  11grade_enrollment  11grade_test_takers  \\\n",
       "count              1261.000000         1981.000000          1981.000000   \n",
       "mean                 44.378676          232.521454           104.278647   \n",
       "std                  23.747142          223.853889           136.226216   \n",
       "min                   0.000000            0.000000             0.000000   \n",
       "25%                  25.000000           45.000000             3.000000   \n",
       "50%                  42.490000          131.000000            54.000000   \n",
       "75%                  63.270000          416.000000           150.000000   \n",
       "max                 100.000000         1218.000000          1058.000000   \n",
       "\n",
       "       11graders_passing_ERW  11graders%_passing_ERW  11graders_passing_Math  \\\n",
       "count            1284.000000             1284.000000             1284.000000   \n",
       "mean              111.298287               69.589151               83.856698   \n",
       "std               101.330828               24.417057               88.414332   \n",
       "min                 0.000000                0.000000                0.000000   \n",
       "25%                35.000000               52.957500               21.000000   \n",
       "50%                77.000000               75.000000               51.000000   \n",
       "75%               161.000000               90.372500              116.250000   \n",
       "max               566.000000              100.000000              552.000000   \n",
       "\n",
       "       11graders%_passing_Math  12graders_passing_both_tst  \\\n",
       "count              1284.000000                 1261.000000   \n",
       "mean                 51.493450                   60.649485   \n",
       "std                  28.341502                   61.430688   \n",
       "min                   0.000000                    0.000000   \n",
       "25%                  27.647500                   15.000000   \n",
       "50%                  52.290000                   39.000000   \n",
       "75%                  76.395000                   87.000000   \n",
       "max                 100.000000                  385.000000   \n",
       "\n",
       "       12graders%_passing_both_tst  11graders_passing_both_tst  \\\n",
       "count                  1261.000000                 1284.000000   \n",
       "mean                     41.948208                   80.202492   \n",
       "std                      23.732121                   86.599369   \n",
       "min                       0.000000                    0.000000   \n",
       "25%                      22.160000                   19.000000   \n",
       "50%                      39.660000                   48.000000   \n",
       "75%                      60.970000                  112.000000   \n",
       "max                     100.000000                  549.000000   \n",
       "\n",
       "       11graders%_passing_both_tst  \n",
       "count                  1284.000000  \n",
       "mean                     49.109065  \n",
       "std                      28.375157  \n",
       "min                       0.000000  \n",
       "25%                      24.532500  \n",
       "50%                      49.360000  \n",
       "75%                      73.627500  \n",
       "max                      99.680000  "
      ]
     },
     "execution_count": 31,
     "metadata": {},
     "output_type": "execute_result"
    }
   ],
   "source": [
    "# Summary Statistics for the Numerical Features in SAT DataFrame for School Records only\n",
    "df_schools_sat.describe()"
   ]
  },
  {
   "cell_type": "code",
   "execution_count": 32,
   "metadata": {
    "scrolled": true
   },
   "outputs": [
    {
     "data": {
      "text/plain": [
       "{'12grade_enrollment': 219.49451007926405,\n",
       " 'test_takers': 63.32219991240687,\n",
       " 'avg_scr_read': 3.821155676292369,\n",
       " 'avg_scr_eng': 4.206959118176691,\n",
       " 'avg_scr_math': 3.4981105621185016,\n",
       " 'avg_scr_sci': 3.333547210753729,\n",
       " 'tst_takers_scr>21': 50.08667204306384,\n",
       " 'tst_takers%_scr>21': 26.521014675360536}"
      ]
     },
     "execution_count": 32,
     "metadata": {},
     "output_type": "execute_result"
    }
   ],
   "source": [
    "# Standard Deviation calculation for all numerical columns for ACT DataFrame using function: calculate_std\n",
    "sd_act = {c : calculate_std(df_schools_act[c]) for c in df_schools_act.select_dtypes(include = ['float']).columns}\n",
    "sd_act"
   ]
  },
  {
   "cell_type": "code",
   "execution_count": 33,
   "metadata": {},
   "outputs": [
    {
     "data": {
      "text/plain": [
       "{'12grade_enrollment': 216.52383067900715,\n",
       " '12grade_test_takers': 105.40421600138545,\n",
       " '12graders_passing_ERW': 76.82970459831118,\n",
       " '12graders%_passing_ERW': 21.47223937410927,\n",
       " '12graders_passing_Math': 63.621239456571196,\n",
       " '12graders%_passing_Math': 23.737723747194675,\n",
       " '11grade_enrollment': 223.79738206058076,\n",
       " '11grade_test_takers': 136.19182841712387,\n",
       " '11graders_passing_ERW': 101.29136113855432,\n",
       " '11graders%_passing_ERW': 24.40754677120146,\n",
       " '11graders_passing_Math': 88.37989558850913,\n",
       " '11graders%_passing_Math': 28.3304637315727,\n",
       " '12graders_passing_both_tst': 61.40632519634846,\n",
       " '12graders%_passing_both_tst': 23.72270871804365,\n",
       " '11graders_passing_both_tst': 86.56564033868649,\n",
       " '11graders%_passing_both_tst': 28.36410577611403}"
      ]
     },
     "execution_count": 33,
     "metadata": {},
     "output_type": "execute_result"
    }
   ],
   "source": [
    "# Standard Deviation calculation for all numerical columns for SAT DataFrame using function: calculate_std\n",
    "sd_sat = {c : calculate_std(df_schools_sat[c]) for c in df_schools_sat.select_dtypes(include = ['float']).columns}\n",
    "sd_sat"
   ]
  },
  {
   "cell_type": "code",
   "execution_count": 34,
   "metadata": {
    "scrolled": false
   },
   "outputs": [
    {
     "data": {
      "text/plain": [
       "57"
      ]
     },
     "execution_count": 34,
     "metadata": {},
     "output_type": "execute_result"
    }
   ],
   "source": [
    "# Calculate the total number of counties in the ACT data\n",
    "total_counties_act = len(df_schools_act['county_name'].unique())\n",
    "total_counties_act"
   ]
  },
  {
   "cell_type": "code",
   "execution_count": 35,
   "metadata": {},
   "outputs": [
    {
     "data": {
      "text/plain": [
       "57"
      ]
     },
     "execution_count": 35,
     "metadata": {},
     "output_type": "execute_result"
    }
   ],
   "source": [
    "# Calculate the total number of counties in the SAT data\n",
    "total_counties_sat = len(df_schools_sat['county_name'].unique())\n",
    "total_counties_sat"
   ]
  },
  {
   "cell_type": "code",
   "execution_count": 36,
   "metadata": {},
   "outputs": [
    {
     "data": {
      "text/plain": [
       "Los Angeles       32\n",
       "Fresno             6\n",
       "San Bernardino     4\n",
       "Alameda            3\n",
       "Santa Clara        3\n",
       "Riverside          2\n",
       "San Francisco      2\n",
       "Sacramento         2\n",
       "Monterey           1\n",
       "San Diego          1\n",
       "Contra Costa       1\n",
       "Modoc              1\n",
       "San Mateo          1\n",
       "Kings              1\n",
       "Kern               1\n",
       "Name: county_name, dtype: int64"
      ]
     },
     "execution_count": 36,
     "metadata": {},
     "output_type": "execute_result"
    }
   ],
   "source": [
    "# Exploring the counties with the average ACT passing score < 10\n",
    "df_schools_act[df_schools_act['tst_takers%_scr>21']<10]['county_name'].value_counts()\n",
    "# No findings. Los Angeles is at the top of the list but it's because this county has the most number of schools\n",
    "# in their district"
   ]
  },
  {
   "cell_type": "code",
   "execution_count": 37,
   "metadata": {
    "scrolled": true
   },
   "outputs": [
    {
     "data": {
      "image/png": "[encoded data removed]",
      "text/plain": [
       "<Figure size 432x288 with 2 Axes>"
      ]
     },
     "metadata": {
      "needs_background": "light"
     },
     "output_type": "display_data"
    }
   ],
   "source": [
    "# Exploring the correlation between english and math test scores for ACT\n",
    "\n",
    "corr_act_scores = df_schools_act[['avg_scr_math','avg_scr_sci','avg_scr_read','avg_scr_eng']].corr()\n",
    "# Set up mask to be \"True\" in the upper triangle.\n",
    "mask = np.zeros_like(corr_act_scores)\n",
    "mask[np.triu_indices_from(mask)] = True\n",
    "\n",
    "# Plot our correlation heatmap, while masking the upper triangle to be white.\n",
    "sns.heatmap(corr_act_scores, mask = mask, square = True, cmap = 'mako', annot = True);\n",
    "\n",
    "# The correleation between all test categories is very strong. Cannot conclude that there is a difference in test\n",
    "# performance in these different categories"
   ]
  },
  {
   "cell_type": "code",
   "execution_count": 38,
   "metadata": {},
   "outputs": [
    {
     "data": {
      "image/png": "[encoded data removed]",
      "text/plain": [
       "<Figure size 432x288 with 1 Axes>"
      ]
     },
     "metadata": {
      "needs_background": "light"
     },
     "output_type": "display_data"
    }
   ],
   "source": [
    "# Exploring the correlation between math SAT outcomes and english SAT outcomes\n",
    "df_schools_sat.plot.scatter('12graders_passing_ERW', '12graders_passing_Math');\n",
    "\n",
    "# Strong correlation between students who pass the English portion and the Math portion of the SAT. It looks like\n",
    "# students who pass the ERW section of the test, also pass the Math section. "
   ]
  },
  {
   "cell_type": "code",
   "execution_count": 39,
   "metadata": {},
   "outputs": [
    {
     "data": {
      "text/html": [
       "<div>\n",
       "<style scoped>\n",
       "    .dataframe tbody tr th:only-of-type {\n",
       "        vertical-align: middle;\n",
       "    }\n",
       "\n",
       "    .dataframe tbody tr th {\n",
       "        vertical-align: top;\n",
       "    }\n",
       "\n",
       "    .dataframe thead th {\n",
       "        text-align: right;\n",
       "    }\n",
       "</style>\n",
       "<table border=\"1\" class=\"dataframe\">\n",
       "  <thead>\n",
       "    <tr style=\"text-align: right;\">\n",
       "      <th></th>\n",
       "      <th>12grade_enrollment</th>\n",
       "      <th>test_takers</th>\n",
       "      <th>avg_scr_read</th>\n",
       "      <th>avg_scr_eng</th>\n",
       "      <th>avg_scr_math</th>\n",
       "      <th>avg_scr_sci</th>\n",
       "      <th>tst_takers_scr&gt;21</th>\n",
       "      <th>tst_takers%_scr&gt;21</th>\n",
       "      <th>tst_participation</th>\n",
       "    </tr>\n",
       "  </thead>\n",
       "  <tbody>\n",
       "    <tr>\n",
       "      <th>count</th>\n",
       "      <td>57.000000</td>\n",
       "      <td>57.000000</td>\n",
       "      <td>57.000000</td>\n",
       "      <td>57.000000</td>\n",
       "      <td>57.000000</td>\n",
       "      <td>57.000000</td>\n",
       "      <td>57.000000</td>\n",
       "      <td>57.000000</td>\n",
       "      <td>57.000000</td>\n",
       "    </tr>\n",
       "    <tr>\n",
       "      <th>mean</th>\n",
       "      <td>7785.298246</td>\n",
       "      <td>1450.070175</td>\n",
       "      <td>389.824561</td>\n",
       "      <td>374.631579</td>\n",
       "      <td>379.140351</td>\n",
       "      <td>377.701754</td>\n",
       "      <td>778.456140</td>\n",
       "      <td>914.522105</td>\n",
       "      <td>16.512900</td>\n",
       "    </tr>\n",
       "    <tr>\n",
       "      <th>std</th>\n",
       "      <td>15972.128285</td>\n",
       "      <td>3185.912085</td>\n",
       "      <td>806.554558</td>\n",
       "      <td>779.071302</td>\n",
       "      <td>788.872850</td>\n",
       "      <td>784.377368</td>\n",
       "      <td>1617.098969</td>\n",
       "      <td>1736.670422</td>\n",
       "      <td>10.543131</td>\n",
       "    </tr>\n",
       "    <tr>\n",
       "      <th>min</th>\n",
       "      <td>19.000000</td>\n",
       "      <td>3.000000</td>\n",
       "      <td>0.000000</td>\n",
       "      <td>0.000000</td>\n",
       "      <td>0.000000</td>\n",
       "      <td>0.000000</td>\n",
       "      <td>0.000000</td>\n",
       "      <td>0.000000</td>\n",
       "      <td>1.607717</td>\n",
       "    </tr>\n",
       "    <tr>\n",
       "      <th>25%</th>\n",
       "      <td>508.000000</td>\n",
       "      <td>65.000000</td>\n",
       "      <td>41.000000</td>\n",
       "      <td>39.000000</td>\n",
       "      <td>37.000000</td>\n",
       "      <td>40.000000</td>\n",
       "      <td>26.000000</td>\n",
       "      <td>84.210000</td>\n",
       "      <td>10.292510</td>\n",
       "    </tr>\n",
       "    <tr>\n",
       "      <th>50%</th>\n",
       "      <td>1994.000000</td>\n",
       "      <td>375.000000</td>\n",
       "      <td>121.000000</td>\n",
       "      <td>116.000000</td>\n",
       "      <td>117.000000</td>\n",
       "      <td>116.000000</td>\n",
       "      <td>180.000000</td>\n",
       "      <td>310.570000</td>\n",
       "      <td>15.533981</td>\n",
       "    </tr>\n",
       "    <tr>\n",
       "      <th>75%</th>\n",
       "      <td>6657.000000</td>\n",
       "      <td>1257.000000</td>\n",
       "      <td>349.000000</td>\n",
       "      <td>334.000000</td>\n",
       "      <td>331.000000</td>\n",
       "      <td>334.000000</td>\n",
       "      <td>593.000000</td>\n",
       "      <td>979.640000</td>\n",
       "      <td>20.811764</td>\n",
       "    </tr>\n",
       "    <tr>\n",
       "      <th>max</th>\n",
       "      <td>104737.000000</td>\n",
       "      <td>20672.000000</td>\n",
       "      <td>5565.000000</td>\n",
       "      <td>5370.000000</td>\n",
       "      <td>5444.000000</td>\n",
       "      <td>5414.000000</td>\n",
       "      <td>9002.000000</td>\n",
       "      <td>11283.120000</td>\n",
       "      <td>68.750000</td>\n",
       "    </tr>\n",
       "  </tbody>\n",
       "</table>\n",
       "</div>"
      ],
      "text/plain": [
       "       12grade_enrollment   test_takers  avg_scr_read  avg_scr_eng  \\\n",
       "count           57.000000     57.000000     57.000000    57.000000   \n",
       "mean          7785.298246   1450.070175    389.824561   374.631579   \n",
       "std          15972.128285   3185.912085    806.554558   779.071302   \n",
       "min             19.000000      3.000000      0.000000     0.000000   \n",
       "25%            508.000000     65.000000     41.000000    39.000000   \n",
       "50%           1994.000000    375.000000    121.000000   116.000000   \n",
       "75%           6657.000000   1257.000000    349.000000   334.000000   \n",
       "max         104737.000000  20672.000000   5565.000000  5370.000000   \n",
       "\n",
       "       avg_scr_math  avg_scr_sci  tst_takers_scr>21  tst_takers%_scr>21  \\\n",
       "count     57.000000    57.000000          57.000000           57.000000   \n",
       "mean     379.140351   377.701754         778.456140          914.522105   \n",
       "std      788.872850   784.377368        1617.098969         1736.670422   \n",
       "min        0.000000     0.000000           0.000000            0.000000   \n",
       "25%       37.000000    40.000000          26.000000           84.210000   \n",
       "50%      117.000000   116.000000         180.000000          310.570000   \n",
       "75%      331.000000   334.000000         593.000000          979.640000   \n",
       "max     5444.000000  5414.000000        9002.000000        11283.120000   \n",
       "\n",
       "       tst_participation  \n",
       "count          57.000000  \n",
       "mean           16.512900  \n",
       "std            10.543131  \n",
       "min             1.607717  \n",
       "25%            10.292510  \n",
       "50%            15.533981  \n",
       "75%            20.811764  \n",
       "max            68.750000  "
      ]
     },
     "execution_count": 39,
     "metadata": {},
     "output_type": "execute_result"
    }
   ],
   "source": [
    "# Exploring the participation rate (test takers/students enrollment in 12th grade). By county\n",
    "\n",
    "# Calculating the participation rate by county. Will add this column to a dataframe\n",
    "tst_takers_by_county_act = df_schools_act.groupby('county_name')['test_takers'].sum()\n",
    "enrollment_by_county_act = df_schools_act.groupby('county_name')['12grade_enrollment'].sum()\n",
    "act_participation_by_county = (tst_takers_by_county_act/enrollment_by_county_act)*100\n",
    "participation_by_county_column = list(act_participation_by_county )\n",
    "\n",
    "# Creating a new dataframe to explore the data by county instead of by school\n",
    "by_county_act = df_schools_act.groupby('county_name').sum().sort_values('tst_takers_scr>21')\n",
    "# Creating a new column in the dataframe to explore the participation rate by county\n",
    "by_county_act['tst_participation'] = participation_by_county_column \n",
    "by_county_act.reset_index(inplace=True)\n",
    "by_county_act.describe()"
   ]
  },
  {
   "cell_type": "code",
   "execution_count": 40,
   "metadata": {},
   "outputs": [],
   "source": [
    "# Evaluate the data by county type\n",
    "# Type of counties in California per source below\n",
    "# https://www.counties.org/sites/main/files/file-attachments/2020-june3-countycaucusesinfographic-4-final.pdf\n",
    "urban_counties = ['Alameda', 'Contra Costa', 'Fresno', 'Los Angeles', 'Orange', 'Riverside', 'Sacramento', 'San Bernardino', 'San Diego', 'San Francisco', 'San Joaquin', 'San Mateo', 'Santa Clara', 'Ventura']\n",
    "suburban_counties = ['Butte', 'Imperial', 'Kern', 'Marin', 'Merced', 'Monterey', 'Napa', 'Placer','San Luis Obispo', 'Santa Barbara', 'Santa Cruz', 'Shasta', 'Solano', 'Sonoma', 'Stanislaus', 'Tulare', 'Yolo']\n",
    "rural_counties = ['Alpine', 'Amador', 'Calaveras', 'Colusa', 'Del Norte', 'El Dorado', 'Glenn', 'Humboldt', 'Inyo', 'Kings', 'Lake', 'Lassen', 'Madera', 'Mariposa', 'Mendocino', 'Modoc', 'Mono', 'Nevada', 'Plumas', 'San Benito', 'Sierra', 'Siskiyou', 'Sutter', 'Tehama', 'Trinity', 'Tuolumne', 'Yuba']\n"
   ]
  },
  {
   "cell_type": "code",
   "execution_count": 41,
   "metadata": {},
   "outputs": [],
   "source": [
    "# Create a function to determine if the county is urban, suburban, rural\n",
    "def county_type(county_cell):\n",
    "    if county_cell in urban_counties:\n",
    "        return 'urban'\n",
    "    elif county_cell in suburban_counties:\n",
    "        return 'suburban'\n",
    "    elif county_cell in rural_counties:\n",
    "        return 'rural'"
   ]
  },
  {
   "cell_type": "code",
   "execution_count": 42,
   "metadata": {
    "scrolled": true
   },
   "outputs": [
    {
     "data": {
      "image/png": "[encoded data removed]",
      "text/plain": [
       "<Figure size 432x288 with 1 Axes>"
      ]
     },
     "metadata": {
      "needs_background": "light"
     },
     "output_type": "display_data"
    }
   ],
   "source": [
    "# Break down the data for ACT scores by county type i.e. urban, suburban, rural\n",
    "\n",
    "# assign the correspondant type of county to the county name\n",
    "by_county_act['county_type']=[county_type(county_cell) for county_cell in by_county_act['county_name']]\n",
    "# create a new data frame with the summary information for the sum up the number of 12th grade enrollment, \n",
    "# test takers, and their percentage\n",
    "act_county_breakdown = by_county_act.groupby('county_type')[['12grade_enrollment','test_takers']].sum()\n",
    "act_county_breakdown.reset_index(inplace=True)\n",
    "percent_enrollment = act_county_breakdown['test_takers']/act_county_breakdown['12grade_enrollment']*100\n",
    "act_county_breakdown['percent_enrollment'] = list(percent_enrollment)\n",
    "act_county_breakdown.set_index('county_type', inplace=True)\n",
    "\n",
    "# Graph a bar plot to show graphically the difference between the three county types, and the number of \n",
    "# test takers in comparison to the number of 12th graders\n",
    "act_county_breakdown[['12grade_enrollment','test_takers']].plot.bar();\n",
    "plt.title('Percent of 12th graders who took the ACT')\n",
    "plt.xticks(rotation = 0)\n",
    "plt.xlabel('Counties');\n",
    "plt.ylabel('Number of Students');"
   ]
  },
  {
   "cell_type": "code",
   "execution_count": 43,
   "metadata": {},
   "outputs": [
    {
     "data": {
      "text/html": [
       "<div>\n",
       "<style scoped>\n",
       "    .dataframe tbody tr th:only-of-type {\n",
       "        vertical-align: middle;\n",
       "    }\n",
       "\n",
       "    .dataframe tbody tr th {\n",
       "        vertical-align: top;\n",
       "    }\n",
       "\n",
       "    .dataframe thead th {\n",
       "        text-align: right;\n",
       "    }\n",
       "</style>\n",
       "<table border=\"1\" class=\"dataframe\">\n",
       "  <thead>\n",
       "    <tr style=\"text-align: right;\">\n",
       "      <th></th>\n",
       "      <th>12grade_enrollment</th>\n",
       "      <th>test_takers</th>\n",
       "      <th>percent_enrollment</th>\n",
       "    </tr>\n",
       "    <tr>\n",
       "      <th>county_type</th>\n",
       "      <th></th>\n",
       "      <th></th>\n",
       "      <th></th>\n",
       "    </tr>\n",
       "  </thead>\n",
       "  <tbody>\n",
       "    <tr>\n",
       "      <th>rural</th>\n",
       "      <td>17934.0</td>\n",
       "      <td>2585.0</td>\n",
       "      <td>14.413962</td>\n",
       "    </tr>\n",
       "    <tr>\n",
       "      <th>suburban</th>\n",
       "      <td>73869.0</td>\n",
       "      <td>11312.0</td>\n",
       "      <td>15.313596</td>\n",
       "    </tr>\n",
       "    <tr>\n",
       "      <th>urban</th>\n",
       "      <td>351959.0</td>\n",
       "      <td>68757.0</td>\n",
       "      <td>19.535514</td>\n",
       "    </tr>\n",
       "  </tbody>\n",
       "</table>\n",
       "</div>"
      ],
      "text/plain": [
       "             12grade_enrollment  test_takers  percent_enrollment\n",
       "county_type                                                     \n",
       "rural                   17934.0       2585.0           14.413962\n",
       "suburban                73869.0      11312.0           15.313596\n",
       "urban                  351959.0      68757.0           19.535514"
      ]
     },
     "execution_count": 43,
     "metadata": {},
     "output_type": "execute_result"
    }
   ],
   "source": [
    "# Table with summary of act score data by type of county\n",
    "act_county_breakdown\n",
    "\n",
    "# Participation rate for ACT testing is below 20%"
   ]
  },
  {
   "cell_type": "code",
   "execution_count": 44,
   "metadata": {
    "scrolled": true
   },
   "outputs": [
    {
     "data": {
      "text/html": [
       "<div>\n",
       "<style scoped>\n",
       "    .dataframe tbody tr th:only-of-type {\n",
       "        vertical-align: middle;\n",
       "    }\n",
       "\n",
       "    .dataframe tbody tr th {\n",
       "        vertical-align: top;\n",
       "    }\n",
       "\n",
       "    .dataframe thead th {\n",
       "        text-align: right;\n",
       "    }\n",
       "</style>\n",
       "<table border=\"1\" class=\"dataframe\">\n",
       "  <thead>\n",
       "    <tr style=\"text-align: right;\">\n",
       "      <th></th>\n",
       "      <th>12grade_enrollment</th>\n",
       "      <th>12grade_test_takers</th>\n",
       "      <th>12graders_passing_ERW</th>\n",
       "      <th>12graders%_passing_ERW</th>\n",
       "      <th>12graders_passing_Math</th>\n",
       "      <th>12graders%_passing_Math</th>\n",
       "      <th>11grade_enrollment</th>\n",
       "      <th>11grade_test_takers</th>\n",
       "      <th>11graders_passing_ERW</th>\n",
       "      <th>11graders%_passing_ERW</th>\n",
       "      <th>11graders_passing_Math</th>\n",
       "      <th>11graders%_passing_Math</th>\n",
       "      <th>12graders_passing_both_tst</th>\n",
       "      <th>12graders%_passing_both_tst</th>\n",
       "      <th>11graders_passing_both_tst</th>\n",
       "      <th>11graders%_passing_both_tst</th>\n",
       "    </tr>\n",
       "  </thead>\n",
       "  <tbody>\n",
       "    <tr>\n",
       "      <th>count</th>\n",
       "      <td>57.000000</td>\n",
       "      <td>57.000000</td>\n",
       "      <td>57.000000</td>\n",
       "      <td>57.000000</td>\n",
       "      <td>57.000000</td>\n",
       "      <td>57.000000</td>\n",
       "      <td>57.000000</td>\n",
       "      <td>57.000000</td>\n",
       "      <td>57.000000</td>\n",
       "      <td>57.000000</td>\n",
       "      <td>57.000000</td>\n",
       "      <td>57.000000</td>\n",
       "      <td>57.000000</td>\n",
       "      <td>57.000000</td>\n",
       "      <td>57.000000</td>\n",
       "      <td>57.000000</td>\n",
       "    </tr>\n",
       "    <tr>\n",
       "      <th>mean</th>\n",
       "      <td>8086.421053</td>\n",
       "      <td>2988.368421</td>\n",
       "      <td>2019.491228</td>\n",
       "      <td>1474.603333</td>\n",
       "      <td>1417.736842</td>\n",
       "      <td>981.780877</td>\n",
       "      <td>8081.140351</td>\n",
       "      <td>3624.140351</td>\n",
       "      <td>2507.140351</td>\n",
       "      <td>1567.587193</td>\n",
       "      <td>1888.982456</td>\n",
       "      <td>1159.957719</td>\n",
       "      <td>1341.736842</td>\n",
       "      <td>928.012105</td>\n",
       "      <td>1806.666667</td>\n",
       "      <td>1106.246316</td>\n",
       "    </tr>\n",
       "    <tr>\n",
       "      <th>std</th>\n",
       "      <td>16695.358840</td>\n",
       "      <td>7129.576514</td>\n",
       "      <td>4520.476461</td>\n",
       "      <td>2901.955888</td>\n",
       "      <td>3075.175794</td>\n",
       "      <td>1821.006166</td>\n",
       "      <td>16640.140515</td>\n",
       "      <td>9660.229612</td>\n",
       "      <td>5841.955218</td>\n",
       "      <td>3027.965587</td>\n",
       "      <td>4096.572638</td>\n",
       "      <td>2064.999550</td>\n",
       "      <td>2897.044858</td>\n",
       "      <td>1708.845608</td>\n",
       "      <td>3894.363130</td>\n",
       "      <td>1951.872749</td>\n",
       "    </tr>\n",
       "    <tr>\n",
       "      <th>min</th>\n",
       "      <td>21.000000</td>\n",
       "      <td>5.000000</td>\n",
       "      <td>0.000000</td>\n",
       "      <td>0.000000</td>\n",
       "      <td>0.000000</td>\n",
       "      <td>0.000000</td>\n",
       "      <td>31.000000</td>\n",
       "      <td>14.000000</td>\n",
       "      <td>0.000000</td>\n",
       "      <td>0.000000</td>\n",
       "      <td>0.000000</td>\n",
       "      <td>0.000000</td>\n",
       "      <td>0.000000</td>\n",
       "      <td>0.000000</td>\n",
       "      <td>0.000000</td>\n",
       "      <td>0.000000</td>\n",
       "    </tr>\n",
       "    <tr>\n",
       "      <th>25%</th>\n",
       "      <td>521.000000</td>\n",
       "      <td>91.000000</td>\n",
       "      <td>59.000000</td>\n",
       "      <td>183.190000</td>\n",
       "      <td>48.000000</td>\n",
       "      <td>133.310000</td>\n",
       "      <td>651.000000</td>\n",
       "      <td>108.000000</td>\n",
       "      <td>68.000000</td>\n",
       "      <td>218.970000</td>\n",
       "      <td>53.000000</td>\n",
       "      <td>146.240000</td>\n",
       "      <td>47.000000</td>\n",
       "      <td>133.310000</td>\n",
       "      <td>48.000000</td>\n",
       "      <td>139.150000</td>\n",
       "    </tr>\n",
       "    <tr>\n",
       "      <th>50%</th>\n",
       "      <td>2064.000000</td>\n",
       "      <td>604.000000</td>\n",
       "      <td>519.000000</td>\n",
       "      <td>521.930000</td>\n",
       "      <td>343.000000</td>\n",
       "      <td>387.970000</td>\n",
       "      <td>2146.000000</td>\n",
       "      <td>778.000000</td>\n",
       "      <td>596.000000</td>\n",
       "      <td>588.840000</td>\n",
       "      <td>395.000000</td>\n",
       "      <td>454.880000</td>\n",
       "      <td>326.000000</td>\n",
       "      <td>360.190000</td>\n",
       "      <td>376.000000</td>\n",
       "      <td>441.450000</td>\n",
       "    </tr>\n",
       "    <tr>\n",
       "      <th>75%</th>\n",
       "      <td>6827.000000</td>\n",
       "      <td>2373.000000</td>\n",
       "      <td>1673.000000</td>\n",
       "      <td>1352.320000</td>\n",
       "      <td>1376.000000</td>\n",
       "      <td>1031.120000</td>\n",
       "      <td>7059.000000</td>\n",
       "      <td>2273.000000</td>\n",
       "      <td>1935.000000</td>\n",
       "      <td>1387.040000</td>\n",
       "      <td>1536.000000</td>\n",
       "      <td>1244.600000</td>\n",
       "      <td>1329.000000</td>\n",
       "      <td>993.400000</td>\n",
       "      <td>1462.000000</td>\n",
       "      <td>1205.670000</td>\n",
       "    </tr>\n",
       "    <tr>\n",
       "      <th>max</th>\n",
       "      <td>109912.000000</td>\n",
       "      <td>48665.000000</td>\n",
       "      <td>29916.000000</td>\n",
       "      <td>19882.170000</td>\n",
       "      <td>19718.000000</td>\n",
       "      <td>12013.330000</td>\n",
       "      <td>110199.000000</td>\n",
       "      <td>68269.000000</td>\n",
       "      <td>39195.000000</td>\n",
       "      <td>20581.170000</td>\n",
       "      <td>25963.000000</td>\n",
       "      <td>13299.170000</td>\n",
       "      <td>18487.000000</td>\n",
       "      <td>11202.340000</td>\n",
       "      <td>24503.000000</td>\n",
       "      <td>12471.720000</td>\n",
       "    </tr>\n",
       "  </tbody>\n",
       "</table>\n",
       "</div>"
      ],
      "text/plain": [
       "       12grade_enrollment  12grade_test_takers  12graders_passing_ERW  \\\n",
       "count           57.000000            57.000000              57.000000   \n",
       "mean          8086.421053          2988.368421            2019.491228   \n",
       "std          16695.358840          7129.576514            4520.476461   \n",
       "min             21.000000             5.000000               0.000000   \n",
       "25%            521.000000            91.000000              59.000000   \n",
       "50%           2064.000000           604.000000             519.000000   \n",
       "75%           6827.000000          2373.000000            1673.000000   \n",
       "max         109912.000000         48665.000000           29916.000000   \n",
       "\n",
       "       12graders%_passing_ERW  12graders_passing_Math  \\\n",
       "count               57.000000               57.000000   \n",
       "mean              1474.603333             1417.736842   \n",
       "std               2901.955888             3075.175794   \n",
       "min                  0.000000                0.000000   \n",
       "25%                183.190000               48.000000   \n",
       "50%                521.930000              343.000000   \n",
       "75%               1352.320000             1376.000000   \n",
       "max              19882.170000            19718.000000   \n",
       "\n",
       "       12graders%_passing_Math  11grade_enrollment  11grade_test_takers  \\\n",
       "count                57.000000           57.000000            57.000000   \n",
       "mean                981.780877         8081.140351          3624.140351   \n",
       "std                1821.006166        16640.140515          9660.229612   \n",
       "min                   0.000000           31.000000            14.000000   \n",
       "25%                 133.310000          651.000000           108.000000   \n",
       "50%                 387.970000         2146.000000           778.000000   \n",
       "75%                1031.120000         7059.000000          2273.000000   \n",
       "max               12013.330000       110199.000000         68269.000000   \n",
       "\n",
       "       11graders_passing_ERW  11graders%_passing_ERW  11graders_passing_Math  \\\n",
       "count              57.000000               57.000000               57.000000   \n",
       "mean             2507.140351             1567.587193             1888.982456   \n",
       "std              5841.955218             3027.965587             4096.572638   \n",
       "min                 0.000000                0.000000                0.000000   \n",
       "25%                68.000000              218.970000               53.000000   \n",
       "50%               596.000000              588.840000              395.000000   \n",
       "75%              1935.000000             1387.040000             1536.000000   \n",
       "max             39195.000000            20581.170000            25963.000000   \n",
       "\n",
       "       11graders%_passing_Math  12graders_passing_both_tst  \\\n",
       "count                57.000000                   57.000000   \n",
       "mean               1159.957719                 1341.736842   \n",
       "std                2064.999550                 2897.044858   \n",
       "min                   0.000000                    0.000000   \n",
       "25%                 146.240000                   47.000000   \n",
       "50%                 454.880000                  326.000000   \n",
       "75%                1244.600000                 1329.000000   \n",
       "max               13299.170000                18487.000000   \n",
       "\n",
       "       12graders%_passing_both_tst  11graders_passing_both_tst  \\\n",
       "count                    57.000000                   57.000000   \n",
       "mean                    928.012105                 1806.666667   \n",
       "std                    1708.845608                 3894.363130   \n",
       "min                       0.000000                    0.000000   \n",
       "25%                     133.310000                   48.000000   \n",
       "50%                     360.190000                  376.000000   \n",
       "75%                     993.400000                 1462.000000   \n",
       "max                   11202.340000                24503.000000   \n",
       "\n",
       "       11graders%_passing_both_tst  \n",
       "count                    57.000000  \n",
       "mean                   1106.246316  \n",
       "std                    1951.872749  \n",
       "min                       0.000000  \n",
       "25%                     139.150000  \n",
       "50%                     441.450000  \n",
       "75%                    1205.670000  \n",
       "max                   12471.720000  "
      ]
     },
     "execution_count": 44,
     "metadata": {},
     "output_type": "execute_result"
    }
   ],
   "source": [
    "### SAT DATA BY COUNTY\n",
    "\n",
    "# Break down the data for SAT scores by county\n",
    "by_county_sat = df_schools_sat.groupby('county_name').sum()\n",
    "by_county_sat.reset_index(inplace=True)\n",
    "by_county_sat.describe()"
   ]
  },
  {
   "cell_type": "code",
   "execution_count": 45,
   "metadata": {},
   "outputs": [
    {
     "data": {
      "image/png": "[encoded data removed]",
      "text/plain": [
       "<Figure size 432x288 with 1 Axes>"
      ]
     },
     "metadata": {
      "needs_background": "light"
     },
     "output_type": "display_data"
    }
   ],
   "source": [
    "# Break down the data for SAT scores by county type i.e. urban, suburban, rural\n",
    "\n",
    "# assign the correspondant type of county to the county name\n",
    "by_county_sat['county_type']=[county_type(county_cell) for county_cell in by_county_sat['county_name']]\n",
    "# create a new data frame with the summary information for the sum up the number of 12th grade enrollment, \n",
    "# test takers, and their percentage\n",
    "sat_county_breakdown = by_county_sat.groupby('county_type')[['12grade_enrollment','12grade_test_takers']].sum()\n",
    "sat_county_breakdown.reset_index(inplace=True)\n",
    "percent_enrollment = sat_county_breakdown['12grade_test_takers']/sat_county_breakdown['12grade_enrollment']*100\n",
    "sat_county_breakdown['percent_enrollment'] = list(percent_enrollment)\n",
    "sat_county_breakdown.set_index('county_type', inplace=True)\n",
    "\n",
    "# Graph a bar plot to show graphically the difference between the three county types, and the number of \n",
    "# test takers in comparison to the number of 12th graders\n",
    "sat_county_breakdown[['12grade_enrollment','12grade_test_takers']].plot.bar();\n",
    "plt.xticks(rotation = 0)\n",
    "plt.xlabel('Counties');\n",
    "plt.ylabel('Number of Students');"
   ]
  },
  {
   "cell_type": "code",
   "execution_count": 46,
   "metadata": {},
   "outputs": [
    {
     "data": {
      "text/html": [
       "<div>\n",
       "<style scoped>\n",
       "    .dataframe tbody tr th:only-of-type {\n",
       "        vertical-align: middle;\n",
       "    }\n",
       "\n",
       "    .dataframe tbody tr th {\n",
       "        vertical-align: top;\n",
       "    }\n",
       "\n",
       "    .dataframe thead th {\n",
       "        text-align: right;\n",
       "    }\n",
       "</style>\n",
       "<table border=\"1\" class=\"dataframe\">\n",
       "  <thead>\n",
       "    <tr style=\"text-align: right;\">\n",
       "      <th></th>\n",
       "      <th>12grade_enrollment</th>\n",
       "      <th>12grade_test_takers</th>\n",
       "      <th>percent_enrollment</th>\n",
       "    </tr>\n",
       "    <tr>\n",
       "      <th>county_type</th>\n",
       "      <th></th>\n",
       "      <th></th>\n",
       "      <th></th>\n",
       "    </tr>\n",
       "  </thead>\n",
       "  <tbody>\n",
       "    <tr>\n",
       "      <th>rural</th>\n",
       "      <td>18367.0</td>\n",
       "      <td>4071.0</td>\n",
       "      <td>22.164752</td>\n",
       "    </tr>\n",
       "    <tr>\n",
       "      <th>suburban</th>\n",
       "      <td>76525.0</td>\n",
       "      <td>22421.0</td>\n",
       "      <td>29.298922</td>\n",
       "    </tr>\n",
       "    <tr>\n",
       "      <th>urban</th>\n",
       "      <td>366034.0</td>\n",
       "      <td>143845.0</td>\n",
       "      <td>39.298262</td>\n",
       "    </tr>\n",
       "  </tbody>\n",
       "</table>\n",
       "</div>"
      ],
      "text/plain": [
       "             12grade_enrollment  12grade_test_takers  percent_enrollment\n",
       "county_type                                                             \n",
       "rural                   18367.0               4071.0           22.164752\n",
       "suburban                76525.0              22421.0           29.298922\n",
       "urban                  366034.0             143845.0           39.298262"
      ]
     },
     "execution_count": 46,
     "metadata": {},
     "output_type": "execute_result"
    }
   ],
   "source": [
    "# Table with summary of sat score data by type of county\n",
    "sat_county_breakdown\n",
    "\n",
    "# Participation rate for SAT testing is below 40%"
   ]
  },
  {
   "cell_type": "markdown",
   "metadata": {},
   "source": [
    "**To-Do:** \n",
    "\n",
    "1. The average number of students in rural counties having a good score in the SAT or ACT is considerably lower than the average number of students having a good score in urban and suburban counties.\n",
    "2. There is strong correlation in test scores for ACT across all test categories.\n",
    "3. There is a strong correlation for student who pass the SAT Engligh/Reading/Writing section and students who pass the SAT Math section\n",
    "4. For the SAT, the average number of students having a passing score is greater for English/Reading/Writing than Math.\n",
    "5. Student participation rate in ACT is less than 20%\n",
    "6. Student participation rate in SAT is less than 40%"
   ]
  },
  {
   "cell_type": "markdown",
   "metadata": {},
   "source": [
    "## Visualize the Data\n",
    "\n",
    "There's not a magic bullet recommendation for the right number of plots to understand a given dataset, but visualizing your data is *always* a good idea. Not only does it allow you to quickly convey your findings (even if you have a non-technical audience), it will often reveal trends in your data that escaped you when you were looking only at numbers. It is important to not only create visualizations, but to **interpret your visualizations** as well.\n",
    "\n",
    "**Every plot should**:\n",
    "- Have a title\n",
    "- Have axis labels\n",
    "- Have appropriate tick labels\n",
    "- Text is legible in a plot\n",
    "- Plots demonstrate meaningful and valid relationships\n",
    "- Have an interpretation to aid understanding\n",
    "\n",
    "Here is an example of what your plots should look like following the above guidelines. Note that while the content of this example is unrelated, the principles of visualization hold:\n",
    "\n",
    "![](https://snag.gy/hCBR1U.jpg)\n",
    "*Interpretation: The above image shows that as we increase our spending on advertising, our sales numbers also tend to increase. There is a positive correlation between advertising spending and sales.*\n",
    "\n",
    "---\n",
    "\n",
    "Here are some prompts to get you started with visualizations. Feel free to add additional visualizations as you see fit:\n",
    "1. Use Seaborn's heatmap with pandas `.corr()` to visualize correlations between all numeric features.\n",
    "    - Heatmaps are generally not appropriate for presentations, and should often be excluded from reports as they can be visually overwhelming. **However**, they can be extremely useful in identify relationships of potential interest (as well as identifying potential collinearity before modeling).\n",
    "    - Please take time to format your output, adding a title. Look through some of the additional arguments and options. (Axis labels aren't really necessary, as long as the title is informative).\n",
    "2. Visualize distributions using histograms. If you have a lot, consider writing a custom function and use subplots.\n",
    "    - *OPTIONAL*: Summarize the underlying distributions of your features (in words & statistics)\n",
    "         - Be thorough in your verbal description of these distributions.\n",
    "         - Be sure to back up these summaries with statistics.\n",
    "         - We generally assume that data we sample from a population will be normally distributed. Do we observe this trend? Explain your answers for each distribution and how you think this will affect estimates made from these data.\n",
    "3. Plot and interpret boxplots. \n",
    "    - Boxplots demonstrate central tendency and spread in variables. In a certain sense, these are somewhat redundant with histograms, but you may be better able to identify clear outliers or differences in IQR, etc.\n",
    "    - Multiple values can be plotted to a single boxplot as long as they are of the same relative scale (meaning they have similar min/max values).\n",
    "    - Each boxplot should:\n",
    "        - Only include variables of a similar scale\n",
    "        - Have clear labels for each variable\n",
    "        - Have appropriate titles and labels\n",
    "4. Plot and interpret scatter plots to view relationships between features. Feel free to write a custom function, and subplot if you'd like. Functions save both time and space.\n",
    "    - Your plots should have:\n",
    "        - Two clearly labeled axes\n",
    "        - A proper title\n",
    "        - Colors and symbols that are clear and unmistakable\n",
    "5. Additional plots of your choosing.\n",
    "    - Are there any additional trends or relationships you haven't explored? Was there something interesting you saw that you'd like to dive further into? It's likely that there are a few more plots you might want to generate to support your narrative and recommendations that you are building toward. **As always, make sure you're interpreting your plots as you go**."
   ]
  },
  {
   "cell_type": "code",
   "execution_count": 47,
   "metadata": {},
   "outputs": [
    {
     "data": {
      "image/png": "[encoded data removed]",
      "text/plain": [
       "<Figure size 576x360 with 1 Axes>"
      ]
     },
     "metadata": {
      "needs_background": "light"
     },
     "output_type": "display_data"
    }
   ],
   "source": [
    "###### \n",
    "#ACT Scores by County Type\n",
    "scores_county_act = df_schools_act.groupby('county_name').mean()\n",
    "scores_county_act.reset_index(inplace=True)\n",
    "scores_county_act['county_type']=[county_type(county_cell) for county_cell in scores_county_act['county_name']]\n",
    "\n",
    "\n",
    "# Graph a bar plot to show graphically the difference between the three county types, and the number of \n",
    "# test takers in comparison to the number of 12th graders\n",
    "scores_county_act.boxplot(column=['tst_takers_scr>21'], by=['county_type'], figsize=(8,5));\n",
    "plt.title('Number of Test Takers Whose ACT Composite Scores Are Greater or Equal to 21');\n",
    "plt.xlabel('Counties');\n",
    "plt.ylabel('Avg number of Test Takers');\n",
    "# Student in rural areas have the lowest average of number of students passing the ACT test"
   ]
  },
  {
   "cell_type": "code",
   "execution_count": 48,
   "metadata": {},
   "outputs": [
    {
     "data": {
      "image/png": "[encoded data removed]",
      "text/plain": [
       "<Figure size 720x576 with 4 Axes>"
      ]
     },
     "metadata": {
      "needs_background": "light"
     },
     "output_type": "display_data"
    }
   ],
   "source": [
    "scores_county_act.boxplot(column=['avg_scr_read', 'avg_scr_eng', 'avg_scr_math', 'avg_scr_sci'], by=['county_type'], figsize=(10,8));\n",
    "#plt.title('Average student ACT scores');\n",
    "# For the score test data across four test categories, the distribution is centered and narrow. Scores vary by less than 2 points "
   ]
  },
  {
   "cell_type": "code",
   "execution_count": 49,
   "metadata": {},
   "outputs": [
    {
     "data": {
      "image/png": "[encoded data removed]",
      "text/plain": [
       "<Figure size 720x576 with 1 Axes>"
      ]
     },
     "metadata": {
      "needs_background": "light"
     },
     "output_type": "display_data"
    }
   ],
   "source": [
    "###### SAT Scores by County Type\n",
    "scores_county_sat = df_schools_sat.groupby('county_name').mean()\n",
    "scores_county_sat.reset_index(inplace=True)\n",
    "scores_county_sat['county_type']=[county_type(county_cell) for county_cell in scores_county_sat['county_name']]\n",
    "\n",
    "\n",
    "# Graph a bar plot to show graphically the difference between the three county types, and the number of \n",
    "# test takers in comparison to the number of 12th graders\n",
    "scores_county_sat.boxplot(column=['12graders_passing_both_tst'], by=['county_type'], figsize=(10,8));\n",
    "plt.title('Average number of students who met the benchmark of both Evidence-Based Reading & Writing (ERW) and Math');\n",
    "plt.xlabel('Counties');\n",
    "plt.ylabel('Avg number of Students');"
   ]
  },
  {
   "cell_type": "code",
   "execution_count": 50,
   "metadata": {},
   "outputs": [
    {
     "data": {
      "image/png": "[encoded data removed]",
      "text/plain": [
       "<Figure size 720x432 with 2 Axes>"
      ]
     },
     "metadata": {
      "needs_background": "light"
     },
     "output_type": "display_data"
    }
   ],
   "source": [
    "scores_county_sat.boxplot(column=['12graders_passing_ERW', '12graders_passing_Math'], by=['county_type'], figsize=(10,6));\n",
    "\n",
    "#The distributions for number of students passing the English/Reading/Writing is different across the county types\n",
    "# For English/Reading/Writing, rural counties have the lowest number of students with a passing score.\n",
    "# For Math, rural counties also have the lowest number of students with a passing score\n",
    "# The boxplots show a slight higher number of students passing ERW over Math tests.\n",
    "# There is also outliers in each distribution for both graphs by county type.These outliers represent a higher number of students \n",
    "# passing the test section"
   ]
  },
  {
   "cell_type": "code",
   "execution_count": 64,
   "metadata": {},
   "outputs": [
    {
     "ename": "TypeError",
     "evalue": "unsupported operand type(s) for &: 'int' and 'list'",
     "output_type": "error",
     "traceback": [
      "\u001b[0;31m---------------------------------------------------------------------------\u001b[0m",
      "\u001b[0;31mTypeError\u001b[0m                                 Traceback (most recent call last)",
      "\u001b[0;32m<ipython-input-64-4d5491200de2>\u001b[0m in \u001b[0;36m<module>\u001b[0;34m\u001b[0m\n\u001b[0;32m----> 1\u001b[0;31m \u001b[0mdf_act\u001b[0m\u001b[0;34m[\u001b[0m\u001b[0mdf_act\u001b[0m\u001b[0;34m[\u001b[0m\u001b[0;34m'tst_takers_scr>21'\u001b[0m\u001b[0;34m]\u001b[0m\u001b[0;34m<\u001b[0m\u001b[0;36m10\u001b[0m \u001b[0;34m&\u001b[0m \u001b[0;34m[\u001b[0m\u001b[0mdf_act\u001b[0m\u001b[0;34m[\u001b[0m\u001b[0;34m'record_type'\u001b[0m\u001b[0;34m]\u001b[0m\u001b[0;34m==\u001b[0m\u001b[0;34m'S'\u001b[0m\u001b[0;34m]\u001b[0m\u001b[0;34m]\u001b[0m\u001b[0;34m\u001b[0m\u001b[0;34m\u001b[0m\u001b[0m\n\u001b[0m",
      "\u001b[0;31mTypeError\u001b[0m: unsupported operand type(s) for &: 'int' and 'list'"
     ]
    }
   ],
   "source": [
    "df_act[df_act['tst_takers_scr>21']<10 & [df_act['record_type']=='S']]"
   ]
  },
  {
   "cell_type": "markdown",
   "metadata": {},
   "source": [
    "## Conclusions and Recommendations"
   ]
  },
  {
   "cell_type": "markdown",
   "metadata": {},
   "source": [
    "Based on your exploration of the data, what are you key takeaways and recommendations? Make sure to answer your question of interest or address your problem statement here."
   ]
  },
  {
   "cell_type": "markdown",
   "metadata": {},
   "source": [
    "\n",
    "Key-Takeaways:\n",
    "1. The average number of students in rural counties having a good score in the SAT or ACT is considerably lower than the average number of students having a good score in urban and suburban counties.\n",
    "2. There is no much difference in the average of scores across the test categories in the ACT. For the SAT, the average number of students having a passing score is greater for English/Reading/Writing than Math. \n",
    "3. Student participation rate in ACT and SAT testing is the same across rural, suburban, and urban areas across California\n",
    "\n",
    "Recommendations:\n",
    "1. The low test performance in rural counties is a red flag. Need to evaluate this further by analyzing the data of other school performance metrics for students (ideally across all grades) in rural counties and compare this with the data from suburban and urban school metrics. \n",
    "2. Analyze what factors can be affecting testing performance in rural counties such as school funding, school programs, and teacher qualifications.\n",
    "3. Investigate and determine the needs of students in rural counties interested in taking the ACT or SAT. "
   ]
  },
  {
   "cell_type": "markdown",
   "metadata": {},
   "source": [
    "Don't forget to create your README!\n",
    "\n",
    "**To-Do:** *If you combine your problem statement, data dictionary, brief summary of your analysis, and conclusions/recommendations, you have an amazing README.md file that quickly aligns your audience to the contents of your project.* Don't forget to cite your data sources!"
   ]
  }
 ],
 "metadata": {
  "anaconda-cloud": {},
  "kernelspec": {
   "display_name": "Python 3",
   "language": "python",
   "name": "python3"
  },
  "language_info": {
   "codemirror_mode": {
    "name": "ipython",
    "version": 3
   },
   "file_extension": ".py",
   "mimetype": "text/x-python",
   "name": "python",
   "nbconvert_exporter": "python",
   "pygments_lexer": "ipython3",
   "version": "3.8.3"
  }
 },
 "nbformat": 4,
 "nbformat_minor": 4
}
